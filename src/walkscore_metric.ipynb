{
 "cells": [
  {
   "cell_type": "code",
   "execution_count": 1,
   "metadata": {},
   "outputs": [],
   "source": [
    "import osmnx as ox\n",
    "from osmnx import projection\n",
    "import pandana\n",
    "import numpy as np\n",
    "import geopandas as gpd\n",
    "import matplotlib.pyplot as plt\n",
    "import seaborn as sns\n",
    "%matplotlib inline"
   ]
  },
  {
   "cell_type": "code",
   "execution_count": 2,
   "metadata": {},
   "outputs": [],
   "source": [
    "target = [\n",
    "    'rogers park', 'west ridge',\n",
    "    'uptown', 'lincoln square',\n",
    "    'north center', 'lake view', 'lincoln park',\n",
    "    'near north side', 'edison park',\n",
    "    'norwood park', 'jefferson park',\n",
    "    'forest glen', 'north park', 'albany park',\n",
    "    'portage park', 'irving park', 'dunning',\n",
    "    'montclare', 'belmont cragin', 'hermosa',\n",
    "    'avondale', 'logan square', 'humboldt park',\n",
    "    'west town', 'austin', 'west garfield park',\n",
    "    'east garfield park', 'near west side', \n",
    "    'north lawndale', 'south lawndale', 'lower west side', 'loop',\n",
    "    'near south side', 'armour square', 'douglas',\n",
    "    'oakland', 'fuller park', 'grand boulevard',\n",
    "    'kenwood', 'washington park', 'hyde park',\n",
    "    'woodlawn', 'south shore', 'chatham',\n",
    "    'avalon park', 'south chicago', 'burnside',\n",
    "    'calumet heights', 'roseland', 'pullman',\n",
    "    'south deering', 'east side', 'west pullman',\n",
    "    'riverdale', 'hegewisch', 'garfield ridge',\n",
    "    'archer heights', 'brighton park', 'mckinley park',\n",
    "    'bridgeport', 'new city', 'west elsdon',\n",
    "    'gage park', 'clearing', 'west lawn',\n",
    "    'chicago lawn', 'west englewood', 'englewood',\n",
    "    'greater grand crossing', 'ashburn',\n",
    "    'auburn gresham', 'beverly', 'washington heights',\n",
    "    'mount greenwood', 'morgan park', 'ohare', 'edgewater'\n",
    "]\n",
    "\n",
    "target_upper = []\n",
    "for i, neighborhood in enumerate(target): target_upper.append(neighborhood.upper())"
   ]
  },
  {
   "cell_type": "code",
   "execution_count": 3,
   "metadata": {},
   "outputs": [],
   "source": [
    "tags = {\n",
    "    'amenity' : [\n",
    "        'cafe',\n",
    "        'bar',\n",
    "        'restaurant',\n",
    "        'pub',\n",
    "        'library',\n",
    "        'school',\n",
    "        'university',\n",
    "        'atm',\n",
    "        'cinema',\n",
    "        'nightclub',\n",
    "        'theatre',\n",
    "        'police',\n",
    "        'bench',\n",
    "        'water_point'\n",
    "    ],\n",
    "    'shop' : [\n",
    "        'bakery',\n",
    "        'convenience',\n",
    "        'supermarket',\n",
    "        'mall',\n",
    "        'shoes',\n",
    "        'clothes',\n",
    "        'department_store',\n",
    "        'beverages',\n",
    "        'ice_cream',\n",
    "        'supermarket',\n",
    "        'florist',\n",
    "        'books',\n",
    "        'anime',\n",
    "        'laundry',\n",
    "        'bicycle'\n",
    "    ],\n",
    "    'leisure' : [\n",
    "        'fitness_centre',\n",
    "        'amusement_arcade',\n",
    "        'bowling_alley',\n",
    "        'dog park',\n",
    "        'fishing',\n",
    "        'sports_hall',\n",
    "        'fitness_station',\n",
    "        'garden',\n",
    "        'golf_course',\n",
    "        'park'\n",
    "    ]\n",
    "}"
   ]
  },
  {
   "cell_type": "code",
   "execution_count": 4,
   "metadata": {},
   "outputs": [],
   "source": [
    "# max finder for each col\n",
    "from collections import deque\n",
    "def findMax(x):\n",
    "    queue = []\n",
    "    max = 0\n",
    "    for i, num in enumerate(x):\n",
    "        if num > max:\n",
    "            max = num\n",
    "    return max\n",
    "\n",
    "def findMin(x):\n",
    "    queue = []\n",
    "    min = 0\n",
    "    for i, num in enumerate(x):\n",
    "        if num > min:\n",
    "            max = min\n",
    "    return min"
   ]
  },
  {
   "cell_type": "code",
   "execution_count": 5,
   "metadata": {},
   "outputs": [],
   "source": [
    "def inverse_distance_score(distances, max_possible_score=10):\n",
    "    inverse_distances = 1 / distances\n",
    "    score = inverse_distances.sum() / max_possible_score\n",
    "    normalized_score = score / inverse_distances.size\n",
    "    return normalized_score if normalized_score <= 1 else 1"
   ]
  },
  {
   "cell_type": "code",
   "execution_count": 6,
   "metadata": {},
   "outputs": [],
   "source": [
    "hashmap = {\n",
    "    'Community Name' : target_upper,\n",
    "    'Walk_Score' : []\n",
    "}"
   ]
  },
  {
   "cell_type": "markdown",
   "metadata": {},
   "source": [
    "## Places of Interest (POI) Proximinity ##\n",
    "The code below will perform a task where we will be calculating each neighborhood's arbitrary node's relative proximity to a place of interest. With the OSMnx defined tag above, we have set up the POIs which we have defined as being the metric/criteria of a city's walkability. For example, we will be calculating the walk-step based upon the node with other road networks. \n",
    "\n",
    "OSMnx documentation: https://osmnx.readthedocs.io/en/stable/\n",
    "\n",
    "<style>\n",
    ".text_cell_render {\n",
    "font-family: Times New Roman, serif;\n",
    "}\n",
    "</style>"
   ]
  },
  {
   "cell_type": "code",
   "execution_count": 18,
   "metadata": {},
   "outputs": [],
   "source": [
    "cityname = 'warsaw, poland'\n",
    "crs = 3035\n",
    "graph = ox.graph_from_place(cityname, network_type=\"walk\")\n",
    "\n",
    "# Project graph\n",
    "graph = ox.projection.project_graph(graph, to_crs=crs)"
   ]
  },
  {
   "cell_type": "code",
   "execution_count": 8,
   "metadata": {},
   "outputs": [
    {
     "name": "stderr",
     "output_type": "stream",
     "text": [
      "/var/folders/g4/ykwfgyl55t7dfzv_zc3dcshh0000gn/T/ipykernel_1472/1666489440.py:7: FutureWarning: The `geometries` module and `geometries_from_X` functions have been renamed the `features` module and `features_from_X` functions. Use these instead. The `geometries` module and function names are deprecated and will be removed in the v2.0.0 release.\n",
      "  poi = ox.geometries.geometries_from_place(cityname, tags=tags)\n"
     ]
    },
    {
     "name": "stdout",
     "output_type": "stream",
     "text": [
      "Generating contraction hierarchies with 8 threads.\n",
      "Setting CH node vector of size 2263\n",
      "Setting CH edge vector of size 7068\n",
      "Range graph removed 7138 edges of 14136\n",
      ". 10% . 20% . 30% . 40% . 50% . 60% . 70% . 80% . 90% . 100%\n"
     ]
    },
    {
     "name": "stderr",
     "output_type": "stream",
     "text": [
      "/var/folders/g4/ykwfgyl55t7dfzv_zc3dcshh0000gn/T/ipykernel_1472/1666489440.py:7: FutureWarning: The `geometries` module and `geometries_from_X` functions have been renamed the `features` module and `features_from_X` functions. Use these instead. The `geometries` module and function names are deprecated and will be removed in the v2.0.0 release.\n",
      "  poi = ox.geometries.geometries_from_place(cityname, tags=tags)\n"
     ]
    },
    {
     "name": "stdout",
     "output_type": "stream",
     "text": [
      "Generating contraction hierarchies with 8 threads.\n",
      "Setting CH node vector of size 3090\n",
      "Setting CH edge vector of size 9804\n",
      "Range graph removed 9946 edges of 19608\n",
      ". 10% . 20% . 30% . 40% . 50% . 60% . 70% . 80% . 90% . 100%\n",
      " 100% "
     ]
    },
    {
     "name": "stderr",
     "output_type": "stream",
     "text": [
      "/var/folders/g4/ykwfgyl55t7dfzv_zc3dcshh0000gn/T/ipykernel_1472/1666489440.py:7: FutureWarning: The `geometries` module and `geometries_from_X` functions have been renamed the `features` module and `features_from_X` functions. Use these instead. The `geometries` module and function names are deprecated and will be removed in the v2.0.0 release.\n",
      "  poi = ox.geometries.geometries_from_place(cityname, tags=tags)\n"
     ]
    },
    {
     "name": "stdout",
     "output_type": "stream",
     "text": [
      "Generating contraction hierarchies with 8 threads.\n",
      "Setting CH node vector of size 3530\n",
      "Setting CH edge vector of size 11660\n",
      "Range graph removed 11754 edges of 23320\n",
      ". 10% . 20% . 30% . 40% . 50% . 60% . 70% . 80% . 90% . 100%\n"
     ]
    },
    {
     "name": "stderr",
     "output_type": "stream",
     "text": [
      "/var/folders/g4/ykwfgyl55t7dfzv_zc3dcshh0000gn/T/ipykernel_1472/1666489440.py:7: FutureWarning: The `geometries` module and `geometries_from_X` functions have been renamed the `features` module and `features_from_X` functions. Use these instead. The `geometries` module and function names are deprecated and will be removed in the v2.0.0 release.\n",
      "  poi = ox.geometries.geometries_from_place(cityname, tags=tags)\n"
     ]
    },
    {
     "name": "stdout",
     "output_type": "stream",
     "text": [
      "Generating contraction hierarchies with 8 threads.\n",
      "Setting CH node vector of size 4455\n",
      "Setting CH edge vector of size 15716\n",
      "Range graph removed 15812 edges of 31432\n",
      ". 10% . 20% . 30% . 40% . 50% . 60% . 70% . 80% . 90% . 100%\n"
     ]
    },
    {
     "name": "stderr",
     "output_type": "stream",
     "text": [
      "/var/folders/g4/ykwfgyl55t7dfzv_zc3dcshh0000gn/T/ipykernel_1472/1666489440.py:7: FutureWarning: The `geometries` module and `geometries_from_X` functions have been renamed the `features` module and `features_from_X` functions. Use these instead. The `geometries` module and function names are deprecated and will be removed in the v2.0.0 release.\n",
      "  poi = ox.geometries.geometries_from_place(cityname, tags=tags)\n"
     ]
    },
    {
     "name": "stdout",
     "output_type": "stream",
     "text": [
      "Generating contraction hierarchies with 8 threads.\n",
      "Setting CH node vector of size 4251\n",
      "Setting CH edge vector of size 14906\n",
      "Range graph removed 15012 edges of 29812\n",
      ". 10% . 20% . 30% . 40% . 50% . 60% . 70% . 80% . 90% . 100%\n"
     ]
    },
    {
     "name": "stderr",
     "output_type": "stream",
     "text": [
      "/var/folders/g4/ykwfgyl55t7dfzv_zc3dcshh0000gn/T/ipykernel_1472/1666489440.py:7: FutureWarning: The `geometries` module and `geometries_from_X` functions have been renamed the `features` module and `features_from_X` functions. Use these instead. The `geometries` module and function names are deprecated and will be removed in the v2.0.0 release.\n",
      "  poi = ox.geometries.geometries_from_place(cityname, tags=tags)\n"
     ]
    },
    {
     "name": "stdout",
     "output_type": "stream",
     "text": [
      "Generating contraction hierarchies with 8 threads.\n",
      "Setting CH node vector of size 6170\n",
      "Setting CH edge vector of size 21520\n",
      "Range graph removed 21628 edges of 43040\n",
      ". 10% . 20% . 30% . 40% . 50% . 60% . 70% . 80% . 90% . 100%\n"
     ]
    },
    {
     "name": "stderr",
     "output_type": "stream",
     "text": [
      "/var/folders/g4/ykwfgyl55t7dfzv_zc3dcshh0000gn/T/ipykernel_1472/1666489440.py:7: FutureWarning: The `geometries` module and `geometries_from_X` functions have been renamed the `features` module and `features_from_X` functions. Use these instead. The `geometries` module and function names are deprecated and will be removed in the v2.0.0 release.\n",
      "  poi = ox.geometries.geometries_from_place(cityname, tags=tags)\n"
     ]
    },
    {
     "name": "stdout",
     "output_type": "stream",
     "text": [
      "Generating contraction hierarchies with 8 threads.\n",
      "Setting CH node vector of size 1627\n",
      "Setting CH edge vector of size 4498\n",
      "Range graph removed 4580 edges of 8996\n",
      ". 10% . 20% . 30% . 40% . 50% . 60% . 70% . 80% . 90% . 100%\n",
      " 100% "
     ]
    },
    {
     "name": "stderr",
     "output_type": "stream",
     "text": [
      "/var/folders/g4/ykwfgyl55t7dfzv_zc3dcshh0000gn/T/ipykernel_1472/1666489440.py:7: FutureWarning: The `geometries` module and `geometries_from_X` functions have been renamed the `features` module and `features_from_X` functions. Use these instead. The `geometries` module and function names are deprecated and will be removed in the v2.0.0 release.\n",
      "  poi = ox.geometries.geometries_from_place(cityname, tags=tags)\n"
     ]
    },
    {
     "name": "stdout",
     "output_type": "stream",
     "text": [
      "Generating contraction hierarchies with 8 threads.\n",
      "Setting CH node vector of size 6811\n",
      "Setting CH edge vector of size 22584\n",
      "Range graph removed 22818 edges of 45168\n",
      ". 10% . 20% . 30% . 40% . 50% . 60% . 70% . 80% . 90% . 100%\n"
     ]
    },
    {
     "name": "stderr",
     "output_type": "stream",
     "text": [
      "/var/folders/g4/ykwfgyl55t7dfzv_zc3dcshh0000gn/T/ipykernel_1472/1666489440.py:7: FutureWarning: The `geometries` module and `geometries_from_X` functions have been renamed the `features` module and `features_from_X` functions. Use these instead. The `geometries` module and function names are deprecated and will be removed in the v2.0.0 release.\n",
      "  poi = ox.geometries.geometries_from_place(cityname, tags=tags)\n"
     ]
    },
    {
     "name": "stdout",
     "output_type": "stream",
     "text": [
      "Generating contraction hierarchies with 8 threads.\n",
      "Setting CH node vector of size 746\n",
      "Setting CH edge vector of size 2390\n",
      "Range graph removed 2406 edges of 4780\n",
      ". 10% . 20% . 30% . 40% . 50% . 60% . 70% . 80% . 90% . 100%\n",
      " 100% "
     ]
    },
    {
     "name": "stderr",
     "output_type": "stream",
     "text": [
      "/var/folders/g4/ykwfgyl55t7dfzv_zc3dcshh0000gn/T/ipykernel_1472/1666489440.py:7: FutureWarning: The `geometries` module and `geometries_from_X` functions have been renamed the `features` module and `features_from_X` functions. Use these instead. The `geometries` module and function names are deprecated and will be removed in the v2.0.0 release.\n",
      "  poi = ox.geometries.geometries_from_place(cityname, tags=tags)\n"
     ]
    },
    {
     "name": "stdout",
     "output_type": "stream",
     "text": [
      "Generating contraction hierarchies with 8 threads.\n",
      "Setting CH node vector of size 2587\n",
      "Setting CH edge vector of size 7956\n",
      "Range graph removed 8074 edges of 15912\n",
      ". 10% . 20% . 30% . 40% . 50% . 60% . 70% . 80% . 90% . 100%\n",
      " 100% "
     ]
    },
    {
     "name": "stderr",
     "output_type": "stream",
     "text": [
      "/var/folders/g4/ykwfgyl55t7dfzv_zc3dcshh0000gn/T/ipykernel_1472/1666489440.py:7: FutureWarning: The `geometries` module and `geometries_from_X` functions have been renamed the `features` module and `features_from_X` functions. Use these instead. The `geometries` module and function names are deprecated and will be removed in the v2.0.0 release.\n",
      "  poi = ox.geometries.geometries_from_place(cityname, tags=tags)\n"
     ]
    },
    {
     "name": "stdout",
     "output_type": "stream",
     "text": [
      "Generating contraction hierarchies with 8 threads.\n",
      "Setting CH node vector of size 1889\n",
      "Setting CH edge vector of size 6018\n",
      "Range graph removed 6054 edges of 12036\n",
      ". 10% . 20% . 30% . 40% . 50% . 60% . 70% . 80% . 90% . 100%\n"
     ]
    },
    {
     "name": "stderr",
     "output_type": "stream",
     "text": [
      "/var/folders/g4/ykwfgyl55t7dfzv_zc3dcshh0000gn/T/ipykernel_1472/1666489440.py:7: FutureWarning: The `geometries` module and `geometries_from_X` functions have been renamed the `features` module and `features_from_X` functions. Use these instead. The `geometries` module and function names are deprecated and will be removed in the v2.0.0 release.\n",
      "  poi = ox.geometries.geometries_from_place(cityname, tags=tags)\n"
     ]
    },
    {
     "name": "stdout",
     "output_type": "stream",
     "text": [
      "Generating contraction hierarchies with 8 threads.\n",
      "Setting CH node vector of size 2927\n",
      "Setting CH edge vector of size 9278\n",
      "Range graph removed 9332 edges of 18556\n",
      ". 10% . 20% . 30% . 40% . 50% . 60% . 70% . 80% . 90% . 100%\n"
     ]
    },
    {
     "name": "stderr",
     "output_type": "stream",
     "text": [
      "/var/folders/g4/ykwfgyl55t7dfzv_zc3dcshh0000gn/T/ipykernel_1472/1666489440.py:7: FutureWarning: The `geometries` module and `geometries_from_X` functions have been renamed the `features` module and `features_from_X` functions. Use these instead. The `geometries` module and function names are deprecated and will be removed in the v2.0.0 release.\n",
      "  poi = ox.geometries.geometries_from_place(cityname, tags=tags)\n"
     ]
    },
    {
     "name": "stdout",
     "output_type": "stream",
     "text": [
      "Generating contraction hierarchies with 8 threads.\n",
      "Setting CH node vector of size 1932\n",
      "Setting CH edge vector of size 5974\n",
      "Range graph removed 6088 edges of 11948\n",
      ". 10% . 20% . 30% . 40% . 50% . 60% . 70% . 80% . 90% . 100%\n",
      " 100% "
     ]
    },
    {
     "name": "stderr",
     "output_type": "stream",
     "text": [
      "/var/folders/g4/ykwfgyl55t7dfzv_zc3dcshh0000gn/T/ipykernel_1472/1666489440.py:7: FutureWarning: The `geometries` module and `geometries_from_X` functions have been renamed the `features` module and `features_from_X` functions. Use these instead. The `geometries` module and function names are deprecated and will be removed in the v2.0.0 release.\n",
      "  poi = ox.geometries.geometries_from_place(cityname, tags=tags)\n"
     ]
    },
    {
     "name": "stdout",
     "output_type": "stream",
     "text": [
      "Generating contraction hierarchies with 8 threads.\n",
      "Setting CH node vector of size 2321\n",
      "Setting CH edge vector of size 7860\n",
      "Range graph removed 7928 edges of 15720\n",
      ". 10% . 20% . 30% . 40% . 50% . 60% . 70% . 80% . 90% . 100%\n"
     ]
    },
    {
     "name": "stderr",
     "output_type": "stream",
     "text": [
      "/var/folders/g4/ykwfgyl55t7dfzv_zc3dcshh0000gn/T/ipykernel_1472/1666489440.py:7: FutureWarning: The `geometries` module and `geometries_from_X` functions have been renamed the `features` module and `features_from_X` functions. Use these instead. The `geometries` module and function names are deprecated and will be removed in the v2.0.0 release.\n",
      "  poi = ox.geometries.geometries_from_place(cityname, tags=tags)\n"
     ]
    },
    {
     "name": "stdout",
     "output_type": "stream",
     "text": [
      "Generating contraction hierarchies with 8 threads.\n",
      "Setting CH node vector of size 3178\n",
      "Setting CH edge vector of size 10270\n",
      "Range graph removed 10354 edges of 20540\n",
      ". 10% . 20% . 30% . 40% . 50% . 60% . 70% . 80% . 90% . 100%\n"
     ]
    },
    {
     "name": "stderr",
     "output_type": "stream",
     "text": [
      "/var/folders/g4/ykwfgyl55t7dfzv_zc3dcshh0000gn/T/ipykernel_1472/1666489440.py:7: FutureWarning: The `geometries` module and `geometries_from_X` functions have been renamed the `features` module and `features_from_X` functions. Use these instead. The `geometries` module and function names are deprecated and will be removed in the v2.0.0 release.\n",
      "  poi = ox.geometries.geometries_from_place(cityname, tags=tags)\n"
     ]
    },
    {
     "name": "stdout",
     "output_type": "stream",
     "text": [
      "Generating contraction hierarchies with 8 threads.\n",
      "Setting CH node vector of size 4991\n",
      "Setting CH edge vector of size 17456\n",
      "Range graph removed 17562 edges of 34912\n",
      ". 10% . 20% . 30% . 40% . 50% . 60% . 70% . 80% . 90% . 100%\n"
     ]
    },
    {
     "name": "stderr",
     "output_type": "stream",
     "text": [
      "/var/folders/g4/ykwfgyl55t7dfzv_zc3dcshh0000gn/T/ipykernel_1472/1666489440.py:7: FutureWarning: The `geometries` module and `geometries_from_X` functions have been renamed the `features` module and `features_from_X` functions. Use these instead. The `geometries` module and function names are deprecated and will be removed in the v2.0.0 release.\n",
      "  poi = ox.geometries.geometries_from_place(cityname, tags=tags)\n"
     ]
    },
    {
     "name": "stdout",
     "output_type": "stream",
     "text": [
      "Generating contraction hierarchies with 8 threads.\n",
      "Setting CH node vector of size 2641\n",
      "Setting CH edge vector of size 8218\n",
      "Range graph removed 8326 edges of 16436\n",
      ". 10% . 20% . 30% . 40% . 50% . 60% . 70% . 80% . 90% . 100%\n",
      " 100% "
     ]
    },
    {
     "name": "stderr",
     "output_type": "stream",
     "text": [
      "/var/folders/g4/ykwfgyl55t7dfzv_zc3dcshh0000gn/T/ipykernel_1472/1666489440.py:7: FutureWarning: The `geometries` module and `geometries_from_X` functions have been renamed the `features` module and `features_from_X` functions. Use these instead. The `geometries` module and function names are deprecated and will be removed in the v2.0.0 release.\n",
      "  poi = ox.geometries.geometries_from_place(cityname, tags=tags)\n"
     ]
    },
    {
     "name": "stdout",
     "output_type": "stream",
     "text": [
      "Generating contraction hierarchies with 8 threads.\n",
      "Setting CH node vector of size 722\n",
      "Setting CH edge vector of size 2192\n",
      "Range graph removed 2238 edges of 4384\n",
      ". 10% . 20% . 30% . 40% . 50% . 60% . 70% . 80% . 90% . 100%\n",
      " 100% "
     ]
    },
    {
     "name": "stderr",
     "output_type": "stream",
     "text": [
      "/var/folders/g4/ykwfgyl55t7dfzv_zc3dcshh0000gn/T/ipykernel_1472/1666489440.py:7: FutureWarning: The `geometries` module and `geometries_from_X` functions have been renamed the `features` module and `features_from_X` functions. Use these instead. The `geometries` module and function names are deprecated and will be removed in the v2.0.0 release.\n",
      "  poi = ox.geometries.geometries_from_place(cityname, tags=tags)\n"
     ]
    },
    {
     "name": "stdout",
     "output_type": "stream",
     "text": [
      "Generating contraction hierarchies with 8 threads.\n",
      "Setting CH node vector of size 3274\n",
      "Setting CH edge vector of size 10890\n",
      "Range graph removed 11040 edges of 21780\n",
      ". 10% . 20% . 30% . 40% . 50% . 60% . 70% . 80% . 90% . 100%\n"
     ]
    },
    {
     "name": "stderr",
     "output_type": "stream",
     "text": [
      "/var/folders/g4/ykwfgyl55t7dfzv_zc3dcshh0000gn/T/ipykernel_1472/1666489440.py:7: FutureWarning: The `geometries` module and `geometries_from_X` functions have been renamed the `features` module and `features_from_X` functions. Use these instead. The `geometries` module and function names are deprecated and will be removed in the v2.0.0 release.\n",
      "  poi = ox.geometries.geometries_from_place(cityname, tags=tags)\n"
     ]
    },
    {
     "name": "stdout",
     "output_type": "stream",
     "text": [
      "Generating contraction hierarchies with 8 threads.\n",
      "Setting CH node vector of size 1946\n",
      "Setting CH edge vector of size 6998\n",
      "Range graph removed 7016 edges of 13996\n",
      ". 10% . 20% . 30% . 40% . 50% . 60% . 70% . 80% . 90% . 100%\n"
     ]
    },
    {
     "name": "stderr",
     "output_type": "stream",
     "text": [
      "/var/folders/g4/ykwfgyl55t7dfzv_zc3dcshh0000gn/T/ipykernel_1472/1666489440.py:7: FutureWarning: The `geometries` module and `geometries_from_X` functions have been renamed the `features` module and `features_from_X` functions. Use these instead. The `geometries` module and function names are deprecated and will be removed in the v2.0.0 release.\n",
      "  poi = ox.geometries.geometries_from_place(cityname, tags=tags)\n"
     ]
    },
    {
     "name": "stdout",
     "output_type": "stream",
     "text": [
      "Generating contraction hierarchies with 8 threads.\n",
      "Setting CH node vector of size 3642\n",
      "Setting CH edge vector of size 12772\n",
      "Range graph removed 12844 edges of 25544\n",
      ". 10% . 20% . 30% . 40% . 50% . 60% . 70% . 80% . 90% . 100%\n"
     ]
    },
    {
     "name": "stderr",
     "output_type": "stream",
     "text": [
      "/var/folders/g4/ykwfgyl55t7dfzv_zc3dcshh0000gn/T/ipykernel_1472/1666489440.py:7: FutureWarning: The `geometries` module and `geometries_from_X` functions have been renamed the `features` module and `features_from_X` functions. Use these instead. The `geometries` module and function names are deprecated and will be removed in the v2.0.0 release.\n",
      "  poi = ox.geometries.geometries_from_place(cityname, tags=tags)\n"
     ]
    },
    {
     "name": "stdout",
     "output_type": "stream",
     "text": [
      "Generating contraction hierarchies with 8 threads.\n",
      "Setting CH node vector of size 7700\n",
      "Setting CH edge vector of size 27134\n",
      "Range graph removed 27238 edges of 54268\n",
      ". 10% . 20% . 30% . 40% . 50% . 60% . 70% . 80% . 90% . 100%\n",
      " 100% "
     ]
    },
    {
     "name": "stderr",
     "output_type": "stream",
     "text": [
      "/var/folders/g4/ykwfgyl55t7dfzv_zc3dcshh0000gn/T/ipykernel_1472/1666489440.py:7: FutureWarning: The `geometries` module and `geometries_from_X` functions have been renamed the `features` module and `features_from_X` functions. Use these instead. The `geometries` module and function names are deprecated and will be removed in the v2.0.0 release.\n",
      "  poi = ox.geometries.geometries_from_place(cityname, tags=tags)\n"
     ]
    },
    {
     "name": "stdout",
     "output_type": "stream",
     "text": [
      "Generating contraction hierarchies with 8 threads.\n",
      "Setting CH node vector of size 5831\n",
      "Setting CH edge vector of size 20760\n",
      "Range graph removed 20892 edges of 41520\n",
      ". 10% . 20% . 30% . 40% . 50% . 60% . 70% . 80% . 90% . 100%\n"
     ]
    },
    {
     "name": "stderr",
     "output_type": "stream",
     "text": [
      "/var/folders/g4/ykwfgyl55t7dfzv_zc3dcshh0000gn/T/ipykernel_1472/1666489440.py:7: FutureWarning: The `geometries` module and `geometries_from_X` functions have been renamed the `features` module and `features_from_X` functions. Use these instead. The `geometries` module and function names are deprecated and will be removed in the v2.0.0 release.\n",
      "  poi = ox.geometries.geometries_from_place(cityname, tags=tags)\n"
     ]
    },
    {
     "name": "stdout",
     "output_type": "stream",
     "text": [
      "Generating contraction hierarchies with 8 threads.\n",
      "Setting CH node vector of size 9658\n",
      "Setting CH edge vector of size 33784\n",
      "Range graph removed 33970 edges of 67568\n",
      ". 10% . 20% . 30% . 40% . 50% . 60% . 70% . 80% . 90% . 100%\n"
     ]
    },
    {
     "name": "stderr",
     "output_type": "stream",
     "text": [
      "/var/folders/g4/ykwfgyl55t7dfzv_zc3dcshh0000gn/T/ipykernel_1472/1666489440.py:7: FutureWarning: The `geometries` module and `geometries_from_X` functions have been renamed the `features` module and `features_from_X` functions. Use these instead. The `geometries` module and function names are deprecated and will be removed in the v2.0.0 release.\n",
      "  poi = ox.geometries.geometries_from_place(cityname, tags=tags)\n"
     ]
    },
    {
     "name": "stdout",
     "output_type": "stream",
     "text": [
      "Generating contraction hierarchies with 8 threads.\n",
      "Setting CH node vector of size 11218\n",
      "Setting CH edge vector of size 40192\n",
      "Range graph removed 40428 edges of 80384\n",
      ". 10% . 20% . 30% . 40% . 50% . 60% . 70% . 80% . 90% . 100%\n"
     ]
    },
    {
     "name": "stderr",
     "output_type": "stream",
     "text": [
      "/var/folders/g4/ykwfgyl55t7dfzv_zc3dcshh0000gn/T/ipykernel_1472/1666489440.py:7: FutureWarning: The `geometries` module and `geometries_from_X` functions have been renamed the `features` module and `features_from_X` functions. Use these instead. The `geometries` module and function names are deprecated and will be removed in the v2.0.0 release.\n",
      "  poi = ox.geometries.geometries_from_place(cityname, tags=tags)\n"
     ]
    },
    {
     "name": "stdout",
     "output_type": "stream",
     "text": [
      "Generating contraction hierarchies with 8 threads.\n",
      "Setting CH node vector of size 2386\n",
      "Setting CH edge vector of size 8506\n",
      "Range graph removed 8554 edges of 17012\n",
      ". 10% . 20% . 30% . 40% . 50% . 60% . 70% . 80% . 90% . 100%\n"
     ]
    },
    {
     "name": "stderr",
     "output_type": "stream",
     "text": [
      "/var/folders/g4/ykwfgyl55t7dfzv_zc3dcshh0000gn/T/ipykernel_1472/1666489440.py:7: FutureWarning: The `geometries` module and `geometries_from_X` functions have been renamed the `features` module and `features_from_X` functions. Use these instead. The `geometries` module and function names are deprecated and will be removed in the v2.0.0 release.\n",
      "  poi = ox.geometries.geometries_from_place(cityname, tags=tags)\n"
     ]
    },
    {
     "name": "stdout",
     "output_type": "stream",
     "text": [
      "Generating contraction hierarchies with 8 threads.\n",
      "Setting CH node vector of size 3376\n",
      "Setting CH edge vector of size 11706\n",
      "Range graph removed 11768 edges of 23412\n",
      ". 10% . 20% . 30% . 40% . 50% . 60% . 70% . 80% . 90% . 100%\n"
     ]
    },
    {
     "name": "stderr",
     "output_type": "stream",
     "text": [
      "/var/folders/g4/ykwfgyl55t7dfzv_zc3dcshh0000gn/T/ipykernel_1472/1666489440.py:7: FutureWarning: The `geometries` module and `geometries_from_X` functions have been renamed the `features` module and `features_from_X` functions. Use these instead. The `geometries` module and function names are deprecated and will be removed in the v2.0.0 release.\n",
      "  poi = ox.geometries.geometries_from_place(cityname, tags=tags)\n"
     ]
    },
    {
     "name": "stdout",
     "output_type": "stream",
     "text": [
      "Generating contraction hierarchies with 8 threads.\n",
      "Setting CH node vector of size 13752\n",
      "Setting CH edge vector of size 44828\n",
      "Range graph removed 45326 edges of 89656\n",
      ". 10% . 20% . 30% . 40% . 50% . 60% . 70% . 80% . 90% . 100%\n"
     ]
    },
    {
     "name": "stderr",
     "output_type": "stream",
     "text": [
      "/var/folders/g4/ykwfgyl55t7dfzv_zc3dcshh0000gn/T/ipykernel_1472/1666489440.py:7: FutureWarning: The `geometries` module and `geometries_from_X` functions have been renamed the `features` module and `features_from_X` functions. Use these instead. The `geometries` module and function names are deprecated and will be removed in the v2.0.0 release.\n",
      "  poi = ox.geometries.geometries_from_place(cityname, tags=tags)\n"
     ]
    },
    {
     "name": "stdout",
     "output_type": "stream",
     "text": [
      "Generating contraction hierarchies with 8 threads.\n",
      "Setting CH node vector of size 4523\n",
      "Setting CH edge vector of size 15626\n",
      "Range graph removed 15754 edges of 31252\n",
      ". 10% . 20% . 30% . 40% . 50% . 60% . 70% . 80% . 90% . 100%\n"
     ]
    },
    {
     "name": "stderr",
     "output_type": "stream",
     "text": [
      "/var/folders/g4/ykwfgyl55t7dfzv_zc3dcshh0000gn/T/ipykernel_1472/1666489440.py:7: FutureWarning: The `geometries` module and `geometries_from_X` functions have been renamed the `features` module and `features_from_X` functions. Use these instead. The `geometries` module and function names are deprecated and will be removed in the v2.0.0 release.\n",
      "  poi = ox.geometries.geometries_from_place(cityname, tags=tags)\n"
     ]
    },
    {
     "name": "stdout",
     "output_type": "stream",
     "text": [
      "Generating contraction hierarchies with 8 threads.\n",
      "Setting CH node vector of size 5149\n",
      "Setting CH edge vector of size 18210\n",
      "Range graph removed 18314 edges of 36420\n",
      ". 10% . 20% . 30% . 40% . 50% . 60% . 70% . 80% . 90% . 100%\n"
     ]
    },
    {
     "name": "stderr",
     "output_type": "stream",
     "text": [
      "/var/folders/g4/ykwfgyl55t7dfzv_zc3dcshh0000gn/T/ipykernel_1472/1666489440.py:7: FutureWarning: The `geometries` module and `geometries_from_X` functions have been renamed the `features` module and `features_from_X` functions. Use these instead. The `geometries` module and function names are deprecated and will be removed in the v2.0.0 release.\n",
      "  poi = ox.geometries.geometries_from_place(cityname, tags=tags)\n"
     ]
    },
    {
     "name": "stdout",
     "output_type": "stream",
     "text": [
      "Generating contraction hierarchies with 8 threads.\n",
      "Setting CH node vector of size 4305\n",
      "Setting CH edge vector of size 14628\n",
      "Range graph removed 14768 edges of 29256\n",
      ". 10% . 20% . 30% . 40% . 50% . 60% . 70% . 80% . 90% . 100%\n"
     ]
    },
    {
     "name": "stderr",
     "output_type": "stream",
     "text": [
      "/var/folders/g4/ykwfgyl55t7dfzv_zc3dcshh0000gn/T/ipykernel_1472/1666489440.py:7: FutureWarning: The `geometries` module and `geometries_from_X` functions have been renamed the `features` module and `features_from_X` functions. Use these instead. The `geometries` module and function names are deprecated and will be removed in the v2.0.0 release.\n",
      "  poi = ox.geometries.geometries_from_place(cityname, tags=tags)\n"
     ]
    },
    {
     "name": "stdout",
     "output_type": "stream",
     "text": [
      "Generating contraction hierarchies with 8 threads.\n",
      "Setting CH node vector of size 5722\n",
      "Setting CH edge vector of size 17694\n",
      "Range graph removed 17874 edges of 35388\n",
      ". 10% . 20% . 30% . 40% . 50% . 60% . 70% . 80% . 90% . 100%\n"
     ]
    },
    {
     "name": "stderr",
     "output_type": "stream",
     "text": [
      "/var/folders/g4/ykwfgyl55t7dfzv_zc3dcshh0000gn/T/ipykernel_1472/1666489440.py:7: FutureWarning: The `geometries` module and `geometries_from_X` functions have been renamed the `features` module and `features_from_X` functions. Use these instead. The `geometries` module and function names are deprecated and will be removed in the v2.0.0 release.\n",
      "  poi = ox.geometries.geometries_from_place(cityname, tags=tags)\n"
     ]
    },
    {
     "name": "stdout",
     "output_type": "stream",
     "text": [
      "Generating contraction hierarchies with 8 threads.\n",
      "Setting CH node vector of size 2136\n",
      "Setting CH edge vector of size 6802\n",
      "Range graph removed 6902 edges of 13604\n",
      ". 10% . 20% . 30% . 40% . 50% . 60% . 70% . 80% . 90% . 100%\n"
     ]
    },
    {
     "name": "stderr",
     "output_type": "stream",
     "text": [
      "/var/folders/g4/ykwfgyl55t7dfzv_zc3dcshh0000gn/T/ipykernel_1472/1666489440.py:7: FutureWarning: The `geometries` module and `geometries_from_X` functions have been renamed the `features` module and `features_from_X` functions. Use these instead. The `geometries` module and function names are deprecated and will be removed in the v2.0.0 release.\n",
      "  poi = ox.geometries.geometries_from_place(cityname, tags=tags)\n"
     ]
    },
    {
     "name": "stdout",
     "output_type": "stream",
     "text": [
      "Generating contraction hierarchies with 8 threads.\n",
      "Setting CH node vector of size 2268\n",
      "Setting CH edge vector of size 7074\n",
      "Range graph removed 7174 edges of 14148\n",
      ". 10% . 20% . 30% . 40% . 50% . 60% . 70% . 80% . 90% . 100%\n",
      " 100% "
     ]
    },
    {
     "name": "stderr",
     "output_type": "stream",
     "text": [
      "/var/folders/g4/ykwfgyl55t7dfzv_zc3dcshh0000gn/T/ipykernel_1472/1666489440.py:7: FutureWarning: The `geometries` module and `geometries_from_X` functions have been renamed the `features` module and `features_from_X` functions. Use these instead. The `geometries` module and function names are deprecated and will be removed in the v2.0.0 release.\n",
      "  poi = ox.geometries.geometries_from_place(cityname, tags=tags)\n"
     ]
    },
    {
     "name": "stdout",
     "output_type": "stream",
     "text": [
      "Generating contraction hierarchies with 8 threads.\n",
      "Setting CH node vector of size 3270\n",
      "Setting CH edge vector of size 10248\n",
      "Range graph removed 10408 edges of 20496\n",
      ". 10% . 20% . 30% . 40% . 50% . 60% . 70% . 80% . 90% . 100%\n"
     ]
    },
    {
     "name": "stderr",
     "output_type": "stream",
     "text": [
      "/var/folders/g4/ykwfgyl55t7dfzv_zc3dcshh0000gn/T/ipykernel_1472/1666489440.py:7: FutureWarning: The `geometries` module and `geometries_from_X` functions have been renamed the `features` module and `features_from_X` functions. Use these instead. The `geometries` module and function names are deprecated and will be removed in the v2.0.0 release.\n",
      "  poi = ox.geometries.geometries_from_place(cityname, tags=tags)\n"
     ]
    },
    {
     "name": "stdout",
     "output_type": "stream",
     "text": [
      "Generating contraction hierarchies with 8 threads.\n",
      "Setting CH node vector of size 1051\n",
      "Setting CH edge vector of size 3414\n",
      "Range graph removed 3446 edges of 6828\n",
      ". 10% . 20% . 30% . 40% . 50% . 60% . 70% . 80% . 90% . 100%\n",
      " 100% "
     ]
    },
    {
     "name": "stderr",
     "output_type": "stream",
     "text": [
      "/var/folders/g4/ykwfgyl55t7dfzv_zc3dcshh0000gn/T/ipykernel_1472/1666489440.py:7: FutureWarning: The `geometries` module and `geometries_from_X` functions have been renamed the `features` module and `features_from_X` functions. Use these instead. The `geometries` module and function names are deprecated and will be removed in the v2.0.0 release.\n",
      "  poi = ox.geometries.geometries_from_place(cityname, tags=tags)\n"
     ]
    },
    {
     "name": "stdout",
     "output_type": "stream",
     "text": [
      "Generating contraction hierarchies with 8 threads.\n",
      "Setting CH node vector of size 984\n",
      "Setting CH edge vector of size 3274\n",
      "Range graph removed 3306 edges of 6548\n",
      ". 10% . 20% . 30% . 40% . 50% . 60% . 70% . 80% . 90% . 100%\n",
      " 100% "
     ]
    },
    {
     "name": "stderr",
     "output_type": "stream",
     "text": [
      "/var/folders/g4/ykwfgyl55t7dfzv_zc3dcshh0000gn/T/ipykernel_1472/1666489440.py:7: FutureWarning: The `geometries` module and `geometries_from_X` functions have been renamed the `features` module and `features_from_X` functions. Use these instead. The `geometries` module and function names are deprecated and will be removed in the v2.0.0 release.\n",
      "  poi = ox.geometries.geometries_from_place(cityname, tags=tags)\n"
     ]
    },
    {
     "name": "stdout",
     "output_type": "stream",
     "text": [
      "Generating contraction hierarchies with 8 threads.\n",
      "Setting CH node vector of size 3333\n",
      "Setting CH edge vector of size 11408\n",
      "Range graph removed 11484 edges of 22816\n",
      ". 10% . 20% . 30% . 40% . 50% . 60% . 70% . 80% . 90% . 100%\n",
      " 100% "
     ]
    },
    {
     "name": "stderr",
     "output_type": "stream",
     "text": [
      "/var/folders/g4/ykwfgyl55t7dfzv_zc3dcshh0000gn/T/ipykernel_1472/1666489440.py:7: FutureWarning: The `geometries` module and `geometries_from_X` functions have been renamed the `features` module and `features_from_X` functions. Use these instead. The `geometries` module and function names are deprecated and will be removed in the v2.0.0 release.\n",
      "  poi = ox.geometries.geometries_from_place(cityname, tags=tags)\n"
     ]
    },
    {
     "name": "stdout",
     "output_type": "stream",
     "text": [
      "Generating contraction hierarchies with 8 threads.\n",
      "Setting CH node vector of size 1481\n",
      "Setting CH edge vector of size 4802\n",
      "Range graph removed 4874 edges of 9604\n",
      ". 10% . 20% . 30% . 40% . 50% . 60% . 70% . 80% . 90% . 100%\n",
      " 100% "
     ]
    },
    {
     "name": "stderr",
     "output_type": "stream",
     "text": [
      "/var/folders/g4/ykwfgyl55t7dfzv_zc3dcshh0000gn/T/ipykernel_1472/1666489440.py:7: FutureWarning: The `geometries` module and `geometries_from_X` functions have been renamed the `features` module and `features_from_X` functions. Use these instead. The `geometries` module and function names are deprecated and will be removed in the v2.0.0 release.\n",
      "  poi = ox.geometries.geometries_from_place(cityname, tags=tags)\n"
     ]
    },
    {
     "name": "stdout",
     "output_type": "stream",
     "text": [
      "Generating contraction hierarchies with 8 threads.\n",
      "Setting CH node vector of size 1669\n",
      "Setting CH edge vector of size 5592\n",
      "Range graph removed 5644 edges of 11184\n",
      ". 10% . 20% . 30% . 40% . 50% . 60% . 70% . 80% . 90% . 100%\n"
     ]
    },
    {
     "name": "stderr",
     "output_type": "stream",
     "text": [
      "/var/folders/g4/ykwfgyl55t7dfzv_zc3dcshh0000gn/T/ipykernel_1472/1666489440.py:7: FutureWarning: The `geometries` module and `geometries_from_X` functions have been renamed the `features` module and `features_from_X` functions. Use these instead. The `geometries` module and function names are deprecated and will be removed in the v2.0.0 release.\n",
      "  poi = ox.geometries.geometries_from_place(cityname, tags=tags)\n"
     ]
    },
    {
     "name": "stdout",
     "output_type": "stream",
     "text": [
      "Generating contraction hierarchies with 8 threads.\n",
      "Setting CH node vector of size 2862\n",
      "Setting CH edge vector of size 9514\n",
      "Range graph removed 9582 edges of 19028\n",
      ". 10% . 20% . 30% . 40% . 50% . 60% . 70% . 80% . 90% . 100%\n"
     ]
    },
    {
     "name": "stderr",
     "output_type": "stream",
     "text": [
      "/var/folders/g4/ykwfgyl55t7dfzv_zc3dcshh0000gn/T/ipykernel_1472/1666489440.py:7: FutureWarning: The `geometries` module and `geometries_from_X` functions have been renamed the `features` module and `features_from_X` functions. Use these instead. The `geometries` module and function names are deprecated and will be removed in the v2.0.0 release.\n",
      "  poi = ox.geometries.geometries_from_place(cityname, tags=tags)\n"
     ]
    },
    {
     "name": "stdout",
     "output_type": "stream",
     "text": [
      "Generating contraction hierarchies with 8 threads.\n",
      "Setting CH node vector of size 3173\n",
      "Setting CH edge vector of size 10832\n",
      "Range graph removed 10924 edges of 21664\n",
      ". 10% . 20% . 30% . 40% . 50% . 60% . 70% . 80% . 90% . 100%\n"
     ]
    },
    {
     "name": "stderr",
     "output_type": "stream",
     "text": [
      "/var/folders/g4/ykwfgyl55t7dfzv_zc3dcshh0000gn/T/ipykernel_1472/1666489440.py:7: FutureWarning: The `geometries` module and `geometries_from_X` functions have been renamed the `features` module and `features_from_X` functions. Use these instead. The `geometries` module and function names are deprecated and will be removed in the v2.0.0 release.\n",
      "  poi = ox.geometries.geometries_from_place(cityname, tags=tags)\n"
     ]
    },
    {
     "name": "stdout",
     "output_type": "stream",
     "text": [
      "Generating contraction hierarchies with 8 threads.\n",
      "Setting CH node vector of size 5338\n",
      "Setting CH edge vector of size 19100\n",
      "Range graph removed 19198 edges of 38200\n",
      ". 10% . 20% . 30% . 40% . 50% . 60% . 70% . 80% . 90% . 100%\n"
     ]
    },
    {
     "name": "stderr",
     "output_type": "stream",
     "text": [
      "/var/folders/g4/ykwfgyl55t7dfzv_zc3dcshh0000gn/T/ipykernel_1472/1666489440.py:7: FutureWarning: The `geometries` module and `geometries_from_X` functions have been renamed the `features` module and `features_from_X` functions. Use these instead. The `geometries` module and function names are deprecated and will be removed in the v2.0.0 release.\n",
      "  poi = ox.geometries.geometries_from_place(cityname, tags=tags)\n"
     ]
    },
    {
     "name": "stdout",
     "output_type": "stream",
     "text": [
      "Generating contraction hierarchies with 8 threads.\n",
      "Setting CH node vector of size 1936\n",
      "Setting CH edge vector of size 6140\n",
      "Range graph removed 6216 edges of 12280\n",
      ". 10% . 20% . 30% . 40% . 50% . 60% . 70% . 80% . 90% . 100%\n",
      " 100% "
     ]
    },
    {
     "name": "stderr",
     "output_type": "stream",
     "text": [
      "/var/folders/g4/ykwfgyl55t7dfzv_zc3dcshh0000gn/T/ipykernel_1472/1666489440.py:7: FutureWarning: The `geometries` module and `geometries_from_X` functions have been renamed the `features` module and `features_from_X` functions. Use these instead. The `geometries` module and function names are deprecated and will be removed in the v2.0.0 release.\n",
      "  poi = ox.geometries.geometries_from_place(cityname, tags=tags)\n"
     ]
    },
    {
     "name": "stdout",
     "output_type": "stream",
     "text": [
      "Generating contraction hierarchies with 8 threads.\n",
      "Setting CH node vector of size 898\n",
      "Setting CH edge vector of size 2868\n",
      "Range graph removed 2904 edges of 5736\n",
      ". 10% . 20% . 30% . 40% . 50% . 60% . 70% . 80% . 90% . 100%\n",
      " 100% "
     ]
    },
    {
     "name": "stderr",
     "output_type": "stream",
     "text": [
      "/var/folders/g4/ykwfgyl55t7dfzv_zc3dcshh0000gn/T/ipykernel_1472/1666489440.py:7: FutureWarning: The `geometries` module and `geometries_from_X` functions have been renamed the `features` module and `features_from_X` functions. Use these instead. The `geometries` module and function names are deprecated and will be removed in the v2.0.0 release.\n",
      "  poi = ox.geometries.geometries_from_place(cityname, tags=tags)\n"
     ]
    },
    {
     "name": "stdout",
     "output_type": "stream",
     "text": [
      "Generating contraction hierarchies with 8 threads.\n",
      "Setting CH node vector of size 4457\n",
      "Setting CH edge vector of size 16064\n",
      "Range graph removed 16122 edges of 32128\n",
      ". 10% . 20% . 30% . 40% . 50% . 60% . 70% . 80% . 90% . 100%\n"
     ]
    },
    {
     "name": "stderr",
     "output_type": "stream",
     "text": [
      "/var/folders/g4/ykwfgyl55t7dfzv_zc3dcshh0000gn/T/ipykernel_1472/1666489440.py:7: FutureWarning: The `geometries` module and `geometries_from_X` functions have been renamed the `features` module and `features_from_X` functions. Use these instead. The `geometries` module and function names are deprecated and will be removed in the v2.0.0 release.\n",
      "  poi = ox.geometries.geometries_from_place(cityname, tags=tags)\n"
     ]
    },
    {
     "name": "stdout",
     "output_type": "stream",
     "text": [
      "Generating contraction hierarchies with 8 threads.\n",
      "Setting CH node vector of size 1146\n",
      "Setting CH edge vector of size 3670\n",
      "Range graph removed 3728 edges of 7340\n",
      ". 10% . 20% . 30% . 40% . 50% . 60% . 70% . 80% . 90% . 100%\n",
      " 100% "
     ]
    },
    {
     "name": "stderr",
     "output_type": "stream",
     "text": [
      "/var/folders/g4/ykwfgyl55t7dfzv_zc3dcshh0000gn/T/ipykernel_1472/1666489440.py:7: FutureWarning: The `geometries` module and `geometries_from_X` functions have been renamed the `features` module and `features_from_X` functions. Use these instead. The `geometries` module and function names are deprecated and will be removed in the v2.0.0 release.\n",
      "  poi = ox.geometries.geometries_from_place(cityname, tags=tags)\n"
     ]
    },
    {
     "name": "stdout",
     "output_type": "stream",
     "text": [
      "Generating contraction hierarchies with 8 threads.\n",
      "Setting CH node vector of size 3090\n",
      "Setting CH edge vector of size 9868\n",
      "Range graph removed 10052 edges of 19736\n",
      ". 10% . 20% . 30% . 40% . 50% . 60% . 70% . 80% . 90% . 100%\n",
      " 100% "
     ]
    },
    {
     "name": "stderr",
     "output_type": "stream",
     "text": [
      "/var/folders/g4/ykwfgyl55t7dfzv_zc3dcshh0000gn/T/ipykernel_1472/1666489440.py:7: FutureWarning: The `geometries` module and `geometries_from_X` functions have been renamed the `features` module and `features_from_X` functions. Use these instead. The `geometries` module and function names are deprecated and will be removed in the v2.0.0 release.\n",
      "  poi = ox.geometries.geometries_from_place(cityname, tags=tags)\n"
     ]
    },
    {
     "name": "stdout",
     "output_type": "stream",
     "text": [
      "Generating contraction hierarchies with 8 threads.\n",
      "Setting CH node vector of size 1139\n",
      "Setting CH edge vector of size 3496\n",
      "Range graph removed 3584 edges of 6992\n",
      ". 10% . 20% . 30% . 40% . 50% . 60% . 70% . 80% . 90% . 100%\n",
      " 100% "
     ]
    },
    {
     "name": "stderr",
     "output_type": "stream",
     "text": [
      "/var/folders/g4/ykwfgyl55t7dfzv_zc3dcshh0000gn/T/ipykernel_1472/1666489440.py:7: FutureWarning: The `geometries` module and `geometries_from_X` functions have been renamed the `features` module and `features_from_X` functions. Use these instead. The `geometries` module and function names are deprecated and will be removed in the v2.0.0 release.\n",
      "  poi = ox.geometries.geometries_from_place(cityname, tags=tags)\n"
     ]
    },
    {
     "name": "stdout",
     "output_type": "stream",
     "text": [
      "Generating contraction hierarchies with 8 threads.\n",
      "Setting CH node vector of size 1974\n",
      "Setting CH edge vector of size 6266\n",
      "Range graph removed 6400 edges of 12532\n",
      ". 10% . 20% . 30% . 40% . 50% . 60% . 70% . 80% . 90% . 100%\n"
     ]
    },
    {
     "name": "stderr",
     "output_type": "stream",
     "text": [
      "/var/folders/g4/ykwfgyl55t7dfzv_zc3dcshh0000gn/T/ipykernel_1472/1666489440.py:7: FutureWarning: The `geometries` module and `geometries_from_X` functions have been renamed the `features` module and `features_from_X` functions. Use these instead. The `geometries` module and function names are deprecated and will be removed in the v2.0.0 release.\n",
      "  poi = ox.geometries.geometries_from_place(cityname, tags=tags)\n"
     ]
    },
    {
     "name": "stdout",
     "output_type": "stream",
     "text": [
      "Generating contraction hierarchies with 8 threads.\n",
      "Setting CH node vector of size 1438\n",
      "Setting CH edge vector of size 4912\n",
      "Range graph removed 4954 edges of 9824\n",
      ". 10% . 20% . 30% . 40% . 50% . 60% . 70% . 80% . 90% . 100%\n"
     ]
    },
    {
     "name": "stderr",
     "output_type": "stream",
     "text": [
      "/var/folders/g4/ykwfgyl55t7dfzv_zc3dcshh0000gn/T/ipykernel_1472/1666489440.py:7: FutureWarning: The `geometries` module and `geometries_from_X` functions have been renamed the `features` module and `features_from_X` functions. Use these instead. The `geometries` module and function names are deprecated and will be removed in the v2.0.0 release.\n",
      "  poi = ox.geometries.geometries_from_place(cityname, tags=tags)\n"
     ]
    },
    {
     "name": "stdout",
     "output_type": "stream",
     "text": [
      "Generating contraction hierarchies with 8 threads.\n",
      "Setting CH node vector of size 2595\n",
      "Setting CH edge vector of size 8338\n",
      "Range graph removed 8390 edges of 16676\n",
      ". 10% . 20% . 30% . 40% . 50% . 60% . 70% . 80% . 90% . 100%\n"
     ]
    },
    {
     "name": "stderr",
     "output_type": "stream",
     "text": [
      "/var/folders/g4/ykwfgyl55t7dfzv_zc3dcshh0000gn/T/ipykernel_1472/1666489440.py:7: FutureWarning: The `geometries` module and `geometries_from_X` functions have been renamed the `features` module and `features_from_X` functions. Use these instead. The `geometries` module and function names are deprecated and will be removed in the v2.0.0 release.\n",
      "  poi = ox.geometries.geometries_from_place(cityname, tags=tags)\n"
     ]
    },
    {
     "name": "stdout",
     "output_type": "stream",
     "text": [
      "Generating contraction hierarchies with 8 threads.\n",
      "Setting CH node vector of size 2178\n",
      "Setting CH edge vector of size 7338\n",
      "Range graph removed 7394 edges of 14676\n",
      ". 10% . 20% . 30% . 40% . 50% . 60% . 70% . 80% . 90% . 100%\n"
     ]
    },
    {
     "name": "stderr",
     "output_type": "stream",
     "text": [
      "/var/folders/g4/ykwfgyl55t7dfzv_zc3dcshh0000gn/T/ipykernel_1472/1666489440.py:7: FutureWarning: The `geometries` module and `geometries_from_X` functions have been renamed the `features` module and `features_from_X` functions. Use these instead. The `geometries` module and function names are deprecated and will be removed in the v2.0.0 release.\n",
      "  poi = ox.geometries.geometries_from_place(cityname, tags=tags)\n"
     ]
    },
    {
     "name": "stdout",
     "output_type": "stream",
     "text": [
      "Generating contraction hierarchies with 8 threads.\n",
      "Setting CH node vector of size 4251\n",
      "Setting CH edge vector of size 14582\n",
      "Range graph removed 14728 edges of 29164\n",
      ". 10% . 20% . 30% . 40% . 50% . 60% . 70% . 80% . 90% . 100%\n"
     ]
    },
    {
     "name": "stderr",
     "output_type": "stream",
     "text": [
      "/var/folders/g4/ykwfgyl55t7dfzv_zc3dcshh0000gn/T/ipykernel_1472/1666489440.py:7: FutureWarning: The `geometries` module and `geometries_from_X` functions have been renamed the `features` module and `features_from_X` functions. Use these instead. The `geometries` module and function names are deprecated and will be removed in the v2.0.0 release.\n",
      "  poi = ox.geometries.geometries_from_place(cityname, tags=tags)\n"
     ]
    },
    {
     "name": "stdout",
     "output_type": "stream",
     "text": [
      "Generating contraction hierarchies with 8 threads.\n",
      "Setting CH node vector of size 1218\n",
      "Setting CH edge vector of size 3820\n",
      "Range graph removed 3888 edges of 7640\n",
      ". 10% . 20% . 30% . 40% . 50% . 60% . 70% . 80% . 90% . 100%\n",
      " 100% "
     ]
    },
    {
     "name": "stderr",
     "output_type": "stream",
     "text": [
      "/var/folders/g4/ykwfgyl55t7dfzv_zc3dcshh0000gn/T/ipykernel_1472/1666489440.py:7: FutureWarning: The `geometries` module and `geometries_from_X` functions have been renamed the `features` module and `features_from_X` functions. Use these instead. The `geometries` module and function names are deprecated and will be removed in the v2.0.0 release.\n",
      "  poi = ox.geometries.geometries_from_place(cityname, tags=tags)\n"
     ]
    },
    {
     "name": "stdout",
     "output_type": "stream",
     "text": [
      "Generating contraction hierarchies with 8 threads.\n",
      "Setting CH node vector of size 4199\n",
      "Setting CH edge vector of size 14818\n",
      "Range graph removed 14916 edges of 29636\n",
      ". 10% . 20% . 30% . 40% . 50% . 60% . 70% . 80% . 90% . 100%\n"
     ]
    },
    {
     "name": "stderr",
     "output_type": "stream",
     "text": [
      "/var/folders/g4/ykwfgyl55t7dfzv_zc3dcshh0000gn/T/ipykernel_1472/1666489440.py:7: FutureWarning: The `geometries` module and `geometries_from_X` functions have been renamed the `features` module and `features_from_X` functions. Use these instead. The `geometries` module and function names are deprecated and will be removed in the v2.0.0 release.\n",
      "  poi = ox.geometries.geometries_from_place(cityname, tags=tags)\n"
     ]
    },
    {
     "name": "stdout",
     "output_type": "stream",
     "text": [
      "Generating contraction hierarchies with 8 threads.\n",
      "Setting CH node vector of size 3969\n",
      "Setting CH edge vector of size 13574\n",
      "Range graph removed 13648 edges of 27148\n",
      ". 10% . 20% . 30% . 40% . 50% . 60% . 70% . 80% . 90% . 100%\n"
     ]
    },
    {
     "name": "stderr",
     "output_type": "stream",
     "text": [
      "/var/folders/g4/ykwfgyl55t7dfzv_zc3dcshh0000gn/T/ipykernel_1472/1666489440.py:7: FutureWarning: The `geometries` module and `geometries_from_X` functions have been renamed the `features` module and `features_from_X` functions. Use these instead. The `geometries` module and function names are deprecated and will be removed in the v2.0.0 release.\n",
      "  poi = ox.geometries.geometries_from_place(cityname, tags=tags)\n"
     ]
    },
    {
     "name": "stdout",
     "output_type": "stream",
     "text": [
      "Generating contraction hierarchies with 8 threads.\n",
      "Setting CH node vector of size 4996\n",
      "Setting CH edge vector of size 16878\n",
      "Range graph removed 17030 edges of 33756\n",
      ". 10% . 20% . 30% . 40% . 50% . 60% . 70% . 80% . 90% . 100%\n"
     ]
    },
    {
     "name": "stderr",
     "output_type": "stream",
     "text": [
      "/var/folders/g4/ykwfgyl55t7dfzv_zc3dcshh0000gn/T/ipykernel_1472/1666489440.py:7: FutureWarning: The `geometries` module and `geometries_from_X` functions have been renamed the `features` module and `features_from_X` functions. Use these instead. The `geometries` module and function names are deprecated and will be removed in the v2.0.0 release.\n",
      "  poi = ox.geometries.geometries_from_place(cityname, tags=tags)\n"
     ]
    },
    {
     "name": "stdout",
     "output_type": "stream",
     "text": [
      "Generating contraction hierarchies with 8 threads.\n",
      "Setting CH node vector of size 793\n",
      "Setting CH edge vector of size 2546\n",
      "Range graph removed 2582 edges of 5092\n",
      ". 10% . 20% . 30% . 40% . 50% . 60% . 70% . 80% . 90% . 100%\n",
      " 100% "
     ]
    },
    {
     "name": "stderr",
     "output_type": "stream",
     "text": [
      "/var/folders/g4/ykwfgyl55t7dfzv_zc3dcshh0000gn/T/ipykernel_1472/1666489440.py:7: FutureWarning: The `geometries` module and `geometries_from_X` functions have been renamed the `features` module and `features_from_X` functions. Use these instead. The `geometries` module and function names are deprecated and will be removed in the v2.0.0 release.\n",
      "  poi = ox.geometries.geometries_from_place(cityname, tags=tags)\n"
     ]
    },
    {
     "name": "stdout",
     "output_type": "stream",
     "text": [
      "Generating contraction hierarchies with 8 threads.\n",
      "Setting CH node vector of size 1426\n",
      "Setting CH edge vector of size 4576\n",
      "Range graph removed 4640 edges of 9152\n",
      ". 10% . 20% . 30% . 40% . 50% . 60% . 70% . 80% . 90% . 100%\n",
      " 100% "
     ]
    },
    {
     "name": "stderr",
     "output_type": "stream",
     "text": [
      "/var/folders/g4/ykwfgyl55t7dfzv_zc3dcshh0000gn/T/ipykernel_1472/1666489440.py:7: FutureWarning: The `geometries` module and `geometries_from_X` functions have been renamed the `features` module and `features_from_X` functions. Use these instead. The `geometries` module and function names are deprecated and will be removed in the v2.0.0 release.\n",
      "  poi = ox.geometries.geometries_from_place(cityname, tags=tags)\n"
     ]
    },
    {
     "name": "stdout",
     "output_type": "stream",
     "text": [
      "Generating contraction hierarchies with 8 threads.\n",
      "Setting CH node vector of size 2000\n",
      "Setting CH edge vector of size 6302\n",
      "Range graph removed 6380 edges of 12604\n",
      ". 10% . 20% . 30% . 40% . 50% . 60% . 70% . 80% . 90% . 100%\n",
      " 100% "
     ]
    },
    {
     "name": "stderr",
     "output_type": "stream",
     "text": [
      "/var/folders/g4/ykwfgyl55t7dfzv_zc3dcshh0000gn/T/ipykernel_1472/1666489440.py:7: FutureWarning: The `geometries` module and `geometries_from_X` functions have been renamed the `features` module and `features_from_X` functions. Use these instead. The `geometries` module and function names are deprecated and will be removed in the v2.0.0 release.\n",
      "  poi = ox.geometries.geometries_from_place(cityname, tags=tags)\n"
     ]
    },
    {
     "name": "stdout",
     "output_type": "stream",
     "text": [
      "Generating contraction hierarchies with 8 threads.\n",
      "Setting CH node vector of size 1992\n",
      "Setting CH edge vector of size 6440\n",
      "Range graph removed 6520 edges of 12880\n",
      ". 10% . 20% . 30% . 40% . 50% . 60% . 70% . 80% . 90% . 100%\n"
     ]
    },
    {
     "name": "stderr",
     "output_type": "stream",
     "text": [
      "/var/folders/g4/ykwfgyl55t7dfzv_zc3dcshh0000gn/T/ipykernel_1472/1666489440.py:7: FutureWarning: The `geometries` module and `geometries_from_X` functions have been renamed the `features` module and `features_from_X` functions. Use these instead. The `geometries` module and function names are deprecated and will be removed in the v2.0.0 release.\n",
      "  poi = ox.geometries.geometries_from_place(cityname, tags=tags)\n"
     ]
    },
    {
     "name": "stdout",
     "output_type": "stream",
     "text": [
      "Generating contraction hierarchies with 8 threads.\n",
      "Setting CH node vector of size 2597\n",
      "Setting CH edge vector of size 8830\n",
      "Range graph removed 8926 edges of 17660\n",
      ". 10% . 20% . 30% . 40% . 50% . 60% . 70% . 80% . 90% . 100%\n"
     ]
    },
    {
     "name": "stderr",
     "output_type": "stream",
     "text": [
      "/var/folders/g4/ykwfgyl55t7dfzv_zc3dcshh0000gn/T/ipykernel_1472/1666489440.py:7: FutureWarning: The `geometries` module and `geometries_from_X` functions have been renamed the `features` module and `features_from_X` functions. Use these instead. The `geometries` module and function names are deprecated and will be removed in the v2.0.0 release.\n",
      "  poi = ox.geometries.geometries_from_place(cityname, tags=tags)\n"
     ]
    },
    {
     "name": "stdout",
     "output_type": "stream",
     "text": [
      "Generating contraction hierarchies with 8 threads.\n",
      "Setting CH node vector of size 3551\n",
      "Setting CH edge vector of size 12624\n",
      "Range graph removed 12672 edges of 25248\n",
      ". 10% . 20% . 30% . 40% . 50% . 60% . 70% . 80% . 90% . 100%\n"
     ]
    },
    {
     "name": "stderr",
     "output_type": "stream",
     "text": [
      "/var/folders/g4/ykwfgyl55t7dfzv_zc3dcshh0000gn/T/ipykernel_1472/1666489440.py:7: FutureWarning: The `geometries` module and `geometries_from_X` functions have been renamed the `features` module and `features_from_X` functions. Use these instead. The `geometries` module and function names are deprecated and will be removed in the v2.0.0 release.\n",
      "  poi = ox.geometries.geometries_from_place(cityname, tags=tags)\n"
     ]
    },
    {
     "name": "stdout",
     "output_type": "stream",
     "text": [
      "Generating contraction hierarchies with 8 threads.\n",
      "Setting CH node vector of size 2956\n",
      "Setting CH edge vector of size 9786\n",
      "Range graph removed 9862 edges of 19572\n",
      ". 10% . 20% . 30% . 40% . 50% . 60% . 70% . 80% . 90% . 100%\n"
     ]
    },
    {
     "name": "stderr",
     "output_type": "stream",
     "text": [
      "/var/folders/g4/ykwfgyl55t7dfzv_zc3dcshh0000gn/T/ipykernel_1472/1666489440.py:7: FutureWarning: The `geometries` module and `geometries_from_X` functions have been renamed the `features` module and `features_from_X` functions. Use these instead. The `geometries` module and function names are deprecated and will be removed in the v2.0.0 release.\n",
      "  poi = ox.geometries.geometries_from_place(cityname, tags=tags)\n"
     ]
    },
    {
     "name": "stdout",
     "output_type": "stream",
     "text": [
      "Generating contraction hierarchies with 8 threads.\n",
      "Setting CH node vector of size 3476\n",
      "Setting CH edge vector of size 11648\n",
      "Range graph removed 11752 edges of 23296\n",
      ". 10% . 20% . 30% . 40% . 50% . 60% . 70% . 80% . 90% . 100%\n"
     ]
    },
    {
     "name": "stderr",
     "output_type": "stream",
     "text": [
      "/var/folders/g4/ykwfgyl55t7dfzv_zc3dcshh0000gn/T/ipykernel_1472/1666489440.py:7: FutureWarning: The `geometries` module and `geometries_from_X` functions have been renamed the `features` module and `features_from_X` functions. Use these instead. The `geometries` module and function names are deprecated and will be removed in the v2.0.0 release.\n",
      "  poi = ox.geometries.geometries_from_place(cityname, tags=tags)\n"
     ]
    },
    {
     "name": "stdout",
     "output_type": "stream",
     "text": [
      "Generating contraction hierarchies with 8 threads.\n",
      "Setting CH node vector of size 2883\n",
      "Setting CH edge vector of size 9036\n",
      "Range graph removed 9162 edges of 18072\n",
      ". 10% . 20% . 30% . 40% . 50% . 60% . 70% . 80% . 90% . 100%\n",
      " 100% "
     ]
    },
    {
     "name": "stderr",
     "output_type": "stream",
     "text": [
      "/var/folders/g4/ykwfgyl55t7dfzv_zc3dcshh0000gn/T/ipykernel_1472/1666489440.py:7: FutureWarning: The `geometries` module and `geometries_from_X` functions have been renamed the `features` module and `features_from_X` functions. Use these instead. The `geometries` module and function names are deprecated and will be removed in the v2.0.0 release.\n",
      "  poi = ox.geometries.geometries_from_place(cityname, tags=tags)\n"
     ]
    },
    {
     "name": "stdout",
     "output_type": "stream",
     "text": [
      "Generating contraction hierarchies with 8 threads.\n",
      "Setting CH node vector of size 2751\n",
      "Setting CH edge vector of size 9172\n",
      "Range graph removed 9292 edges of 18344\n",
      ". 10% . 20% . 30% . 40% . 50% . 60% . 70% . 80% . 90% . 100%\n"
     ]
    },
    {
     "name": "stderr",
     "output_type": "stream",
     "text": [
      "/var/folders/g4/ykwfgyl55t7dfzv_zc3dcshh0000gn/T/ipykernel_1472/1666489440.py:7: FutureWarning: The `geometries` module and `geometries_from_X` functions have been renamed the `features` module and `features_from_X` functions. Use these instead. The `geometries` module and function names are deprecated and will be removed in the v2.0.0 release.\n",
      "  poi = ox.geometries.geometries_from_place(cityname, tags=tags)\n"
     ]
    },
    {
     "name": "stdout",
     "output_type": "stream",
     "text": [
      "Generating contraction hierarchies with 8 threads.\n",
      "Setting CH node vector of size 1721\n",
      "Setting CH edge vector of size 5336\n",
      "Range graph removed 5400 edges of 10672\n",
      ". 10% . 20% . 30% . 40% . 50% . 60% . 70% . 80% . 90% . 100%\n",
      " 100% "
     ]
    },
    {
     "name": "stderr",
     "output_type": "stream",
     "text": [
      "/var/folders/g4/ykwfgyl55t7dfzv_zc3dcshh0000gn/T/ipykernel_1472/1666489440.py:7: FutureWarning: The `geometries` module and `geometries_from_X` functions have been renamed the `features` module and `features_from_X` functions. Use these instead. The `geometries` module and function names are deprecated and will be removed in the v2.0.0 release.\n",
      "  poi = ox.geometries.geometries_from_place(cityname, tags=tags)\n"
     ]
    },
    {
     "name": "stdout",
     "output_type": "stream",
     "text": [
      "Generating contraction hierarchies with 8 threads.\n",
      "Setting CH node vector of size 2000\n",
      "Setting CH edge vector of size 6540\n",
      "Range graph removed 6612 edges of 13080\n",
      ". 10% . 20% . 30% . 40% . 50% . 60% . 70% . 80% . 90% . 100%\n",
      " 100% "
     ]
    },
    {
     "name": "stderr",
     "output_type": "stream",
     "text": [
      "/var/folders/g4/ykwfgyl55t7dfzv_zc3dcshh0000gn/T/ipykernel_1472/1666489440.py:7: FutureWarning: The `geometries` module and `geometries_from_X` functions have been renamed the `features` module and `features_from_X` functions. Use these instead. The `geometries` module and function names are deprecated and will be removed in the v2.0.0 release.\n",
      "  poi = ox.geometries.geometries_from_place(cityname, tags=tags)\n"
     ]
    },
    {
     "name": "stdout",
     "output_type": "stream",
     "text": [
      "Generating contraction hierarchies with 8 threads.\n",
      "Setting CH node vector of size 1313\n",
      "Setting CH edge vector of size 3974\n",
      "Range graph removed 4050 edges of 7948\n",
      ". 10% . 20% . 30% . 40% . 50% . 60% . 70% . 80% . 90% . 100%\n",
      " 100% "
     ]
    },
    {
     "name": "stderr",
     "output_type": "stream",
     "text": [
      "/var/folders/g4/ykwfgyl55t7dfzv_zc3dcshh0000gn/T/ipykernel_1472/1666489440.py:7: FutureWarning: The `geometries` module and `geometries_from_X` functions have been renamed the `features` module and `features_from_X` functions. Use these instead. The `geometries` module and function names are deprecated and will be removed in the v2.0.0 release.\n",
      "  poi = ox.geometries.geometries_from_place(cityname, tags=tags)\n"
     ]
    },
    {
     "name": "stdout",
     "output_type": "stream",
     "text": [
      "Generating contraction hierarchies with 8 threads.\n",
      "Setting CH node vector of size 2859\n",
      "Setting CH edge vector of size 9426\n",
      "Range graph removed 9534 edges of 18852\n",
      ". 10% . 20% . 30% . 40% . 50% . 60% . 70% . 80% . 90% . 100%\n"
     ]
    },
    {
     "name": "stderr",
     "output_type": "stream",
     "text": [
      "/var/folders/g4/ykwfgyl55t7dfzv_zc3dcshh0000gn/T/ipykernel_1472/1666489440.py:7: FutureWarning: The `geometries` module and `geometries_from_X` functions have been renamed the `features` module and `features_from_X` functions. Use these instead. The `geometries` module and function names are deprecated and will be removed in the v2.0.0 release.\n",
      "  poi = ox.geometries.geometries_from_place(cityname, tags=tags)\n"
     ]
    },
    {
     "name": "stdout",
     "output_type": "stream",
     "text": [
      "Generating contraction hierarchies with 8 threads.\n",
      "Setting CH node vector of size 1628\n",
      "Setting CH edge vector of size 4132\n",
      "Range graph removed 4400 edges of 8264\n",
      ". 10% . 20% . 30% . 40% . 50% . 60% . 70% . 80% . 90% . 100%\n",
      " 100% "
     ]
    },
    {
     "name": "stderr",
     "output_type": "stream",
     "text": [
      "/var/folders/g4/ykwfgyl55t7dfzv_zc3dcshh0000gn/T/ipykernel_1472/1666489440.py:7: FutureWarning: The `geometries` module and `geometries_from_X` functions have been renamed the `features` module and `features_from_X` functions. Use these instead. The `geometries` module and function names are deprecated and will be removed in the v2.0.0 release.\n",
      "  poi = ox.geometries.geometries_from_place(cityname, tags=tags)\n"
     ]
    },
    {
     "name": "stdout",
     "output_type": "stream",
     "text": [
      "Generating contraction hierarchies with 8 threads.\n",
      "Setting CH node vector of size 2593\n",
      "Setting CH edge vector of size 8686\n",
      "Range graph removed 8792 edges of 17372\n",
      ". 10% . 20% . 30% . 40% . 50% . 60% . 70% . 80% . 90% . 100%\n"
     ]
    }
   ],
   "source": [
    "for city in target_upper:\n",
    "    if not city in [\"BURNSIDE\", \"RIVERDALE\", \"MCKINLEY PARK\"]:\n",
    "        cityname = f\"{city}, CHICAGO, ILLINOIS\"\n",
    "        crs = 3035\n",
    "        graph = ox.graph_from_place(cityname, network_type='walk')\n",
    "        graph = ox.projection.project_graph(graph, to_crs=crs)\n",
    "        poi = ox.geometries.geometries_from_place(cityname, tags=tags)\n",
    "        # project the place of interest\n",
    "        poi = poi.to_crs(epsg=crs)\n",
    "\n",
    "        max_time = 20\n",
    "        walk_speed = 4.2\n",
    "        for u, v, data in graph.edges(data=True):\n",
    "            data['speed_kph'] = walk_speed\n",
    "        graph = ox.add_edge_travel_times(graph)\n",
    "\n",
    "    \n",
    "        nodes = ox.graph_to_gdfs(graph, edges=False)[['x', 'y']]\n",
    "        edges = ox.graph_to_gdfs(graph, nodes=False).reset_index()[['u', 'v', 'travel_time']]\n",
    "\n",
    "        # Construct the pandana network model\n",
    "        network = pandana.Network(\n",
    "            node_x=nodes['x'],\n",
    "            node_y=nodes['y'], \n",
    "            edge_from=edges['u'],\n",
    "            edge_to=edges['v'],\n",
    "            edge_weights=edges[['travel_time']]\n",
    "        )\n",
    "        centroids = poi.centroid\n",
    "        \"\"\" \n",
    "        Calculate and specifiy a max travel distance\n",
    "        for further implications onto a df we create\n",
    "        \"\"\"\n",
    "        max_distance = max_time * 60 #mins\n",
    "        network.set_pois(\n",
    "            category='pois',\n",
    "            maxdist = max_distance,\n",
    "            maxitems = 10,\n",
    "            x_col = centroids.x,\n",
    "            y_col = centroids.y\n",
    "        )\n",
    "\n",
    "        distances = network.nearest_pois(\n",
    "            distance=max_distance,\n",
    "            category = 'pois',\n",
    "            num_pois = 10\n",
    "        )\n",
    "\n",
    "        distances.astype(int)\n",
    "        df = distances\n",
    "        #(df.iloc[:, 1:] - df.iloc[:, 1:].min()) / (df.iloc[:, 1:].max() - df.iloc[:, 1:].min())\n",
    "        X = (((df.sum() / df.count()).sum())/10)\n",
    "        walk_score = X\n",
    "        hashmap['Walk_Score'].append(walk_score)\n",
    "    else:\n",
    "        walk_score = 0\n",
    "        hashmap['Walk_Score'].append(walk_score)\n",
    "    "
   ]
  },
  {
   "cell_type": "code",
   "execution_count": 13,
   "metadata": {},
   "outputs": [],
   "source": [
    "import pandas as pd\n",
    "len(hashmap['Community Name'])\n",
    "len(hashmap[\"Walk_Score\"][1:])\n",
    "hashmap['Walk_Score'] = hashmap['Walk_Score'][1:]"
   ]
  },
  {
   "cell_type": "code",
   "execution_count": 14,
   "metadata": {},
   "outputs": [],
   "source": [
    "df_poi = pd.DataFrame(hashmap)"
   ]
  },
  {
   "cell_type": "code",
   "execution_count": 23,
   "metadata": {},
   "outputs": [
    {
     "name": "stderr",
     "output_type": "stream",
     "text": [
      "/var/folders/g4/ykwfgyl55t7dfzv_zc3dcshh0000gn/T/ipykernel_1472/3677981211.py:5: FutureWarning: ChainedAssignmentError: behaviour will change in pandas 3.0!\n",
      "You are setting values through chained assignment. Currently this works in certain cases, but when using Copy-on-Write (which will become the default behaviour in pandas 3.0) this will never work to update the original DataFrame or Series, because the intermediate object on which we are setting values will behave as a copy.\n",
      "A typical example is when you are setting values in a column of a DataFrame, like:\n",
      "\n",
      "df[\"col\"][row_indexer] = value\n",
      "\n",
      "Use `df.loc[row_indexer, \"col\"] = values` instead, to perform the assignment in a single step and ensure this keeps updating the original `df`.\n",
      "\n",
      "See the caveats in the documentation: https://pandas.pydata.org/pandas-docs/stable/user_guide/indexing.html#returning-a-view-versus-a-copy\n",
      "\n",
      "  df_poi['Walk_Score'][i] = (df_poi['Walk_Score'].mean())\n",
      "/var/folders/g4/ykwfgyl55t7dfzv_zc3dcshh0000gn/T/ipykernel_1472/3677981211.py:5: SettingWithCopyWarning: \n",
      "A value is trying to be set on a copy of a slice from a DataFrame\n",
      "\n",
      "See the caveats in the documentation: https://pandas.pydata.org/pandas-docs/stable/user_guide/indexing.html#returning-a-view-versus-a-copy\n",
      "  df_poi['Walk_Score'][i] = (df_poi['Walk_Score'].mean())\n",
      "/var/folders/g4/ykwfgyl55t7dfzv_zc3dcshh0000gn/T/ipykernel_1472/3677981211.py:5: FutureWarning: ChainedAssignmentError: behaviour will change in pandas 3.0!\n",
      "You are setting values through chained assignment. Currently this works in certain cases, but when using Copy-on-Write (which will become the default behaviour in pandas 3.0) this will never work to update the original DataFrame or Series, because the intermediate object on which we are setting values will behave as a copy.\n",
      "A typical example is when you are setting values in a column of a DataFrame, like:\n",
      "\n",
      "df[\"col\"][row_indexer] = value\n",
      "\n",
      "Use `df.loc[row_indexer, \"col\"] = values` instead, to perform the assignment in a single step and ensure this keeps updating the original `df`.\n",
      "\n",
      "See the caveats in the documentation: https://pandas.pydata.org/pandas-docs/stable/user_guide/indexing.html#returning-a-view-versus-a-copy\n",
      "\n",
      "  df_poi['Walk_Score'][i] = (df_poi['Walk_Score'].mean())\n",
      "/var/folders/g4/ykwfgyl55t7dfzv_zc3dcshh0000gn/T/ipykernel_1472/3677981211.py:5: SettingWithCopyWarning: \n",
      "A value is trying to be set on a copy of a slice from a DataFrame\n",
      "\n",
      "See the caveats in the documentation: https://pandas.pydata.org/pandas-docs/stable/user_guide/indexing.html#returning-a-view-versus-a-copy\n",
      "  df_poi['Walk_Score'][i] = (df_poi['Walk_Score'].mean())\n",
      "/var/folders/g4/ykwfgyl55t7dfzv_zc3dcshh0000gn/T/ipykernel_1472/3677981211.py:5: FutureWarning: ChainedAssignmentError: behaviour will change in pandas 3.0!\n",
      "You are setting values through chained assignment. Currently this works in certain cases, but when using Copy-on-Write (which will become the default behaviour in pandas 3.0) this will never work to update the original DataFrame or Series, because the intermediate object on which we are setting values will behave as a copy.\n",
      "A typical example is when you are setting values in a column of a DataFrame, like:\n",
      "\n",
      "df[\"col\"][row_indexer] = value\n",
      "\n",
      "Use `df.loc[row_indexer, \"col\"] = values` instead, to perform the assignment in a single step and ensure this keeps updating the original `df`.\n",
      "\n",
      "See the caveats in the documentation: https://pandas.pydata.org/pandas-docs/stable/user_guide/indexing.html#returning-a-view-versus-a-copy\n",
      "\n",
      "  df_poi['Walk_Score'][i] = (df_poi['Walk_Score'].mean())\n",
      "/var/folders/g4/ykwfgyl55t7dfzv_zc3dcshh0000gn/T/ipykernel_1472/3677981211.py:5: SettingWithCopyWarning: \n",
      "A value is trying to be set on a copy of a slice from a DataFrame\n",
      "\n",
      "See the caveats in the documentation: https://pandas.pydata.org/pandas-docs/stable/user_guide/indexing.html#returning-a-view-versus-a-copy\n",
      "  df_poi['Walk_Score'][i] = (df_poi['Walk_Score'].mean())\n"
     ]
    }
   ],
   "source": [
    "# TARGET VALUES: BURNSIDE\", \"RIVERDALE\", \"MCKINLEY PARK\", \"OHARE\"\n",
    "mod = ['BURNSIDE', 'RIVERDALE', 'MCKINLEY PARK']\n",
    "for i, val in enumerate(df_poi['Walk_Score']):\n",
    "    if val in mod or val == 0.000000: \n",
    "        df_poi['Walk_Score'][i] = (df_poi['Walk_Score'].mean())\n",
    "    if val == 'OHARE':\n",
    "        df_poi['Walk_Score'][i] = 780.992313"
   ]
  },
  {
   "cell_type": "code",
   "execution_count": 32,
   "metadata": {},
   "outputs": [],
   "source": [
    "def min_max_scale(series):\n",
    "    # Calculate the minimum and maximum of the series\n",
    "    min_val = series.min()\n",
    "    max_val = series.max()\n",
    "    scaled_series = (series - min_val) / (max_val - min_val)\n",
    "    return scaled_series\n",
    "\n",
    "df_poi['scaled_walkability'] = min_max_scale(df_poi['Walk_Score'])"
   ]
  },
  {
   "cell_type": "code",
   "execution_count": 41,
   "metadata": {},
   "outputs": [
    {
     "name": "stdout",
     "output_type": "stream",
     "text": [
      "Saved df_poi to CSV format\n"
     ]
    }
   ],
   "source": [
    "df_poi.isnull().sum()\n",
    "df_poi.to_csv('poi_data_processed.csv')\n",
    "print(f'Saved df_poi to CSV format')"
   ]
  }
 ],
 "metadata": {
  "kernelspec": {
   "display_name": "Python 3",
   "language": "python",
   "name": "python3"
  },
  "language_info": {
   "codemirror_mode": {
    "name": "ipython",
    "version": 3
   },
   "file_extension": ".py",
   "mimetype": "text/x-python",
   "name": "python",
   "nbconvert_exporter": "python",
   "pygments_lexer": "ipython3",
   "version": "3.11.5"
  }
 },
 "nbformat": 4,
 "nbformat_minor": 2
}
