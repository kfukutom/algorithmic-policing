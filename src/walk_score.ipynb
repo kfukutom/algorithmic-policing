{
 "cells": [
  {
   "cell_type": "code",
   "execution_count": 1,
   "metadata": {},
   "outputs": [],
   "source": [
    "import osmnx as ox\n",
    "import pandana\n",
    "import numpy as np\n",
    "import geopandas as gpd\n",
    "import matplotlib.pyplot as plt\n",
    "import seaborn as sns\n",
    "%matplotlib inline"
   ]
  },
  {
   "cell_type": "code",
   "execution_count": 2,
   "metadata": {},
   "outputs": [],
   "source": [
    "target = [\n",
    "    'rogers park', 'west ridge',\n",
    "    'uptown', 'lincoln square',\n",
    "    'north center', 'lake view', 'lincoln park',\n",
    "    'near north side', 'edison park',\n",
    "    'norwood park', 'jefferson park',\n",
    "    'forest glen', 'north park', 'albany park',\n",
    "    'portage park', 'irving park', 'dunning',\n",
    "    'montclare', 'belmont cragin', 'hermosa',\n",
    "    'avondale', 'logan square', 'humboldt park',\n",
    "    'west town', 'austin', 'west garfield park',\n",
    "    'east garfield park', 'near west side', \n",
    "    'north lawndale', 'south lawndale', 'lower west side', 'loop',\n",
    "    'near south side', 'armour square', 'douglas',\n",
    "    'oakland', 'fuller park', 'grand boulevard',\n",
    "    'kenwood', 'washington park', 'hyde park',\n",
    "    'woodlawn', 'south shore', 'chatham',\n",
    "    'avalon park', 'south chicago', 'burnside',\n",
    "    'calumet heights', 'roseland', 'pullman',\n",
    "    'south deering', 'east side', 'west pullman',\n",
    "    'riverdale', 'hegewisch', 'garfield ridge',\n",
    "    'archer heights', 'brighton park', 'mckinley park',\n",
    "    'bridgeport', 'new city', 'west elsdon',\n",
    "    'gage park', 'clearing', 'west lawn',\n",
    "    'chicago lawn', 'west englewood', 'englewood',\n",
    "    'greater grand crossing', 'ashburn',\n",
    "    'auburn gresham', 'beverly', 'washington heights',\n",
    "    'mount greenwood', 'morgan park', 'ohare', 'edgewater'\n",
    "]"
   ]
  },
  {
   "cell_type": "code",
   "execution_count": 3,
   "metadata": {},
   "outputs": [],
   "source": [
    "tags = {\n",
    "    'amenity' : [\n",
    "        'cafe',\n",
    "        'bar',\n",
    "        'restaurant',\n",
    "        'pub',\n",
    "        'library',\n",
    "        'school',\n",
    "        'university',\n",
    "        'atm',\n",
    "        'cinema',\n",
    "        'nightclub',\n",
    "        'theatre',\n",
    "        'police',\n",
    "        'bench',\n",
    "        'water_point'\n",
    "    ],\n",
    "    'shop' : [\n",
    "        'bakery',\n",
    "        'convenience',\n",
    "        'supermarket',\n",
    "        'mall',\n",
    "        'shoes',\n",
    "        'clothes',\n",
    "        'department_store',\n",
    "        'beverages',\n",
    "        'ice_cream',\n",
    "        'supermarket',\n",
    "        'florist',\n",
    "        'books',\n",
    "        'anime',\n",
    "        'laundry',\n",
    "        'bicycle'\n",
    "    ],\n",
    "    'leisure' : [\n",
    "        'fitness_centre',\n",
    "        'amusement_arcade',\n",
    "        'bowling_alley',\n",
    "        'dog park',\n",
    "        'fishing',\n",
    "        'sports_hall',\n",
    "        'fitness_station',\n",
    "        'garden',\n",
    "        'golf_course',\n",
    "        'park'\n",
    "    ]\n",
    "}"
   ]
  },
  {
   "cell_type": "code",
   "execution_count": 4,
   "metadata": {},
   "outputs": [],
   "source": [
    "# max finder for each col\n",
    "from collections import deque\n",
    "def findMax(x):\n",
    "    queue = []\n",
    "    max = 0\n",
    "    for i, num in enumerate(x):\n",
    "        if num > max:\n",
    "            max = num\n",
    "    return max\n",
    "\n",
    "def findMin(x):\n",
    "    queue = []\n",
    "    min = 0\n",
    "    for i, num in enumerate(x):\n",
    "        if num > min:\n",
    "            max = min\n",
    "    return min"
   ]
  },
  {
   "cell_type": "code",
   "execution_count": 5,
   "metadata": {},
   "outputs": [],
   "source": [
    "def inverse_distance_score(distances, max_possible_score=10):\n",
    "    inverse_distances = 1 / distances\n",
    "    score = inverse_distances.sum() / max_possible_score\n",
    "    normalized_score = score / inverse_distances.size\n",
    "    return normalized_score if normalized_score <= 1 else 1"
   ]
  },
  {
   "cell_type": "code",
   "execution_count": 6,
   "metadata": {},
   "outputs": [],
   "source": [
    "hashmap = {\n",
    "    'Community Name' : target,\n",
    "    'Walk_Score' : []\n",
    "}"
   ]
  },
  {
   "cell_type": "code",
   "execution_count": 7,
   "metadata": {},
   "outputs": [
    {
     "name": "stderr",
     "output_type": "stream",
     "text": [
      "/var/folders/g4/ykwfgyl55t7dfzv_zc3dcshh0000gn/T/ipykernel_2750/3457703710.py:7: FutureWarning: The `geometries` module and `geometries_from_X` functions have been renamed the `features` module and `features_from_X` functions. Use these instead. The `geometries` module and function names are deprecated and will be removed in the v2.0.0 release.\n",
      "  poi = ox.geometries.geometries_from_place(cityname, tags=tags)\n"
     ]
    },
    {
     "name": "stdout",
     "output_type": "stream",
     "text": [
      "Generating contraction hierarchies with 8 threads.\n",
      "Setting CH node vector of size 2263\n",
      "Setting CH edge vector of size 7068\n",
      "Range graph removed 7138 edges of 14136\n",
      ". 10% . 20% . 30% . 40% . 50% . 60% . 70% . 80% . 90% . 100%\n"
     ]
    },
    {
     "name": "stderr",
     "output_type": "stream",
     "text": [
      "/var/folders/g4/ykwfgyl55t7dfzv_zc3dcshh0000gn/T/ipykernel_2750/3457703710.py:7: FutureWarning: The `geometries` module and `geometries_from_X` functions have been renamed the `features` module and `features_from_X` functions. Use these instead. The `geometries` module and function names are deprecated and will be removed in the v2.0.0 release.\n",
      "  poi = ox.geometries.geometries_from_place(cityname, tags=tags)\n"
     ]
    },
    {
     "name": "stdout",
     "output_type": "stream",
     "text": [
      "Generating contraction hierarchies with 8 threads.\n",
      "Setting CH node vector of size 3090\n",
      "Setting CH edge vector of size 9804\n",
      "Range graph removed 9946 edges of 19608\n",
      ". 10% . 20% . 30% . 40% . 50% . 60% . 70% . 80% . 90% . 100%\n",
      " 100% "
     ]
    },
    {
     "name": "stderr",
     "output_type": "stream",
     "text": [
      "/var/folders/g4/ykwfgyl55t7dfzv_zc3dcshh0000gn/T/ipykernel_2750/3457703710.py:7: FutureWarning: The `geometries` module and `geometries_from_X` functions have been renamed the `features` module and `features_from_X` functions. Use these instead. The `geometries` module and function names are deprecated and will be removed in the v2.0.0 release.\n",
      "  poi = ox.geometries.geometries_from_place(cityname, tags=tags)\n"
     ]
    },
    {
     "name": "stdout",
     "output_type": "stream",
     "text": [
      "Generating contraction hierarchies with 8 threads.\n",
      "Setting CH node vector of size 3530\n",
      "Setting CH edge vector of size 11660\n",
      "Range graph removed 11754 edges of 23320\n",
      ". 10% . 20% . 30% . 40% . 50% . 60% . 70% . 80% . 90% . 100%\n"
     ]
    },
    {
     "name": "stderr",
     "output_type": "stream",
     "text": [
      "/var/folders/g4/ykwfgyl55t7dfzv_zc3dcshh0000gn/T/ipykernel_2750/3457703710.py:7: FutureWarning: The `geometries` module and `geometries_from_X` functions have been renamed the `features` module and `features_from_X` functions. Use these instead. The `geometries` module and function names are deprecated and will be removed in the v2.0.0 release.\n",
      "  poi = ox.geometries.geometries_from_place(cityname, tags=tags)\n"
     ]
    },
    {
     "name": "stdout",
     "output_type": "stream",
     "text": [
      "Generating contraction hierarchies with 8 threads.\n",
      "Setting CH node vector of size 4455\n",
      "Setting CH edge vector of size 15716\n",
      "Range graph removed 15812 edges of 31432\n",
      ". 10% . 20% . 30% . 40% . 50% . 60% . 70% . 80% . 90% . 100%\n"
     ]
    },
    {
     "name": "stderr",
     "output_type": "stream",
     "text": [
      "/var/folders/g4/ykwfgyl55t7dfzv_zc3dcshh0000gn/T/ipykernel_2750/3457703710.py:7: FutureWarning: The `geometries` module and `geometries_from_X` functions have been renamed the `features` module and `features_from_X` functions. Use these instead. The `geometries` module and function names are deprecated and will be removed in the v2.0.0 release.\n",
      "  poi = ox.geometries.geometries_from_place(cityname, tags=tags)\n"
     ]
    },
    {
     "name": "stdout",
     "output_type": "stream",
     "text": [
      "Generating contraction hierarchies with 8 threads.\n",
      "Setting CH node vector of size 4251\n",
      "Setting CH edge vector of size 14906\n",
      "Range graph removed 15012 edges of 29812\n",
      ". 10% . 20% . 30% . 40% . 50% . 60% . 70% . 80% . 90% . 100%\n"
     ]
    },
    {
     "name": "stderr",
     "output_type": "stream",
     "text": [
      "/var/folders/g4/ykwfgyl55t7dfzv_zc3dcshh0000gn/T/ipykernel_2750/3457703710.py:7: FutureWarning: The `geometries` module and `geometries_from_X` functions have been renamed the `features` module and `features_from_X` functions. Use these instead. The `geometries` module and function names are deprecated and will be removed in the v2.0.0 release.\n",
      "  poi = ox.geometries.geometries_from_place(cityname, tags=tags)\n"
     ]
    },
    {
     "name": "stdout",
     "output_type": "stream",
     "text": [
      "Generating contraction hierarchies with 8 threads.\n",
      "Setting CH node vector of size 6170\n",
      "Setting CH edge vector of size 21520\n",
      "Range graph removed 21628 edges of 43040\n",
      ". 10% . 20% . 30% . 40% . 50% . 60% . 70% . 80% . 90% . 100%\n"
     ]
    },
    {
     "name": "stderr",
     "output_type": "stream",
     "text": [
      "/var/folders/g4/ykwfgyl55t7dfzv_zc3dcshh0000gn/T/ipykernel_2750/3457703710.py:7: FutureWarning: The `geometries` module and `geometries_from_X` functions have been renamed the `features` module and `features_from_X` functions. Use these instead. The `geometries` module and function names are deprecated and will be removed in the v2.0.0 release.\n",
      "  poi = ox.geometries.geometries_from_place(cityname, tags=tags)\n"
     ]
    },
    {
     "name": "stdout",
     "output_type": "stream",
     "text": [
      "Generating contraction hierarchies with 8 threads.\n",
      "Setting CH node vector of size 1627\n",
      "Setting CH edge vector of size 4498\n",
      "Range graph removed 4580 edges of 8996\n",
      ". 10% . 20% . 30% . 40% . 50% . 60% . 70% . 80% . 90% . 100%\n",
      " 100% "
     ]
    },
    {
     "name": "stderr",
     "output_type": "stream",
     "text": [
      "/var/folders/g4/ykwfgyl55t7dfzv_zc3dcshh0000gn/T/ipykernel_2750/3457703710.py:7: FutureWarning: The `geometries` module and `geometries_from_X` functions have been renamed the `features` module and `features_from_X` functions. Use these instead. The `geometries` module and function names are deprecated and will be removed in the v2.0.0 release.\n",
      "  poi = ox.geometries.geometries_from_place(cityname, tags=tags)\n"
     ]
    },
    {
     "name": "stdout",
     "output_type": "stream",
     "text": [
      "Generating contraction hierarchies with 8 threads.\n",
      "Setting CH node vector of size 6626\n",
      "Setting CH edge vector of size 22092\n",
      "Range graph removed 22320 edges of 44184\n",
      ". 10% . 20% . 30% . 40% . 50% . 60% . 70% . 80% . 90% . 100%\n"
     ]
    },
    {
     "name": "stderr",
     "output_type": "stream",
     "text": [
      "/var/folders/g4/ykwfgyl55t7dfzv_zc3dcshh0000gn/T/ipykernel_2750/3457703710.py:7: FutureWarning: The `geometries` module and `geometries_from_X` functions have been renamed the `features` module and `features_from_X` functions. Use these instead. The `geometries` module and function names are deprecated and will be removed in the v2.0.0 release.\n",
      "  poi = ox.geometries.geometries_from_place(cityname, tags=tags)\n"
     ]
    },
    {
     "name": "stdout",
     "output_type": "stream",
     "text": [
      "Generating contraction hierarchies with 8 threads.\n",
      "Setting CH node vector of size 746\n",
      "Setting CH edge vector of size 2390\n",
      "Range graph removed 2406 edges of 4780\n",
      ". 10% . 20% . 30% . 40% . 50% . 60% . 70% . 80% . 90% . 100%\n",
      " 100% "
     ]
    },
    {
     "name": "stderr",
     "output_type": "stream",
     "text": [
      "/var/folders/g4/ykwfgyl55t7dfzv_zc3dcshh0000gn/T/ipykernel_2750/3457703710.py:7: FutureWarning: The `geometries` module and `geometries_from_X` functions have been renamed the `features` module and `features_from_X` functions. Use these instead. The `geometries` module and function names are deprecated and will be removed in the v2.0.0 release.\n",
      "  poi = ox.geometries.geometries_from_place(cityname, tags=tags)\n"
     ]
    },
    {
     "name": "stdout",
     "output_type": "stream",
     "text": [
      "Generating contraction hierarchies with 8 threads.\n",
      "Setting CH node vector of size 2587\n",
      "Setting CH edge vector of size 7956\n",
      "Range graph removed 8074 edges of 15912\n",
      ". 10% . 20% . 30% . 40% . 50% . 60% . 70% . 80% . 90% . 100%\n",
      " 100% "
     ]
    },
    {
     "name": "stderr",
     "output_type": "stream",
     "text": [
      "/var/folders/g4/ykwfgyl55t7dfzv_zc3dcshh0000gn/T/ipykernel_2750/3457703710.py:7: FutureWarning: The `geometries` module and `geometries_from_X` functions have been renamed the `features` module and `features_from_X` functions. Use these instead. The `geometries` module and function names are deprecated and will be removed in the v2.0.0 release.\n",
      "  poi = ox.geometries.geometries_from_place(cityname, tags=tags)\n"
     ]
    },
    {
     "name": "stdout",
     "output_type": "stream",
     "text": [
      "Generating contraction hierarchies with 8 threads.\n",
      "Setting CH node vector of size 1889\n",
      "Setting CH edge vector of size 6018\n",
      "Range graph removed 6054 edges of 12036\n",
      ". 10% . 20% . 30% . 40% . 50% . 60% . 70% . 80% . 90% . 100%\n",
      " 100% "
     ]
    },
    {
     "name": "stderr",
     "output_type": "stream",
     "text": [
      "/var/folders/g4/ykwfgyl55t7dfzv_zc3dcshh0000gn/T/ipykernel_2750/3457703710.py:7: FutureWarning: The `geometries` module and `geometries_from_X` functions have been renamed the `features` module and `features_from_X` functions. Use these instead. The `geometries` module and function names are deprecated and will be removed in the v2.0.0 release.\n",
      "  poi = ox.geometries.geometries_from_place(cityname, tags=tags)\n"
     ]
    },
    {
     "name": "stdout",
     "output_type": "stream",
     "text": [
      "Generating contraction hierarchies with 8 threads.\n",
      "Setting CH node vector of size 2927\n",
      "Setting CH edge vector of size 9278\n",
      "Range graph removed 9332 edges of 18556\n",
      ". 10% . 20% . 30% . 40% . 50% . 60% . 70% . 80% . 90% . 100%\n"
     ]
    },
    {
     "name": "stderr",
     "output_type": "stream",
     "text": [
      "/var/folders/g4/ykwfgyl55t7dfzv_zc3dcshh0000gn/T/ipykernel_2750/3457703710.py:7: FutureWarning: The `geometries` module and `geometries_from_X` functions have been renamed the `features` module and `features_from_X` functions. Use these instead. The `geometries` module and function names are deprecated and will be removed in the v2.0.0 release.\n",
      "  poi = ox.geometries.geometries_from_place(cityname, tags=tags)\n"
     ]
    },
    {
     "name": "stdout",
     "output_type": "stream",
     "text": [
      "Generating contraction hierarchies with 8 threads.\n",
      "Setting CH node vector of size 1932\n",
      "Setting CH edge vector of size 5974\n",
      "Range graph removed 6088 edges of 11948\n",
      ". 10% . 20% . 30% . 40% . 50% . 60% . 70% . 80% . 90% . 100%\n",
      " 100% "
     ]
    },
    {
     "name": "stderr",
     "output_type": "stream",
     "text": [
      "/var/folders/g4/ykwfgyl55t7dfzv_zc3dcshh0000gn/T/ipykernel_2750/3457703710.py:7: FutureWarning: The `geometries` module and `geometries_from_X` functions have been renamed the `features` module and `features_from_X` functions. Use these instead. The `geometries` module and function names are deprecated and will be removed in the v2.0.0 release.\n",
      "  poi = ox.geometries.geometries_from_place(cityname, tags=tags)\n"
     ]
    },
    {
     "name": "stdout",
     "output_type": "stream",
     "text": [
      "Generating contraction hierarchies with 8 threads.\n",
      "Setting CH node vector of size 2321\n",
      "Setting CH edge vector of size 7860\n",
      "Range graph removed 7928 edges of 15720\n",
      ". 10% . 20% . 30% . 40% . 50% . 60% . 70% . 80% . 90% . 100%\n"
     ]
    },
    {
     "name": "stderr",
     "output_type": "stream",
     "text": [
      "/var/folders/g4/ykwfgyl55t7dfzv_zc3dcshh0000gn/T/ipykernel_2750/3457703710.py:7: FutureWarning: The `geometries` module and `geometries_from_X` functions have been renamed the `features` module and `features_from_X` functions. Use these instead. The `geometries` module and function names are deprecated and will be removed in the v2.0.0 release.\n",
      "  poi = ox.geometries.geometries_from_place(cityname, tags=tags)\n"
     ]
    },
    {
     "name": "stdout",
     "output_type": "stream",
     "text": [
      "Generating contraction hierarchies with 8 threads.\n",
      "Setting CH node vector of size 3178\n",
      "Setting CH edge vector of size 10270\n",
      "Range graph removed 10354 edges of 20540\n",
      ". 10% . 20% . 30% . 40% . 50% . 60% . 70% . 80% . 90% . 100%\n"
     ]
    },
    {
     "name": "stderr",
     "output_type": "stream",
     "text": [
      "/var/folders/g4/ykwfgyl55t7dfzv_zc3dcshh0000gn/T/ipykernel_2750/3457703710.py:7: FutureWarning: The `geometries` module and `geometries_from_X` functions have been renamed the `features` module and `features_from_X` functions. Use these instead. The `geometries` module and function names are deprecated and will be removed in the v2.0.0 release.\n",
      "  poi = ox.geometries.geometries_from_place(cityname, tags=tags)\n"
     ]
    },
    {
     "name": "stdout",
     "output_type": "stream",
     "text": [
      "Generating contraction hierarchies with 8 threads.\n",
      "Setting CH node vector of size 4991\n",
      "Setting CH edge vector of size 17456\n",
      "Range graph removed 17562 edges of 34912\n",
      ". 10% . 20% . 30% . 40% . 50% . 60% . 70% . 80% . 90% . 100%\n"
     ]
    },
    {
     "name": "stderr",
     "output_type": "stream",
     "text": [
      "/var/folders/g4/ykwfgyl55t7dfzv_zc3dcshh0000gn/T/ipykernel_2750/3457703710.py:7: FutureWarning: The `geometries` module and `geometries_from_X` functions have been renamed the `features` module and `features_from_X` functions. Use these instead. The `geometries` module and function names are deprecated and will be removed in the v2.0.0 release.\n",
      "  poi = ox.geometries.geometries_from_place(cityname, tags=tags)\n"
     ]
    },
    {
     "name": "stdout",
     "output_type": "stream",
     "text": [
      "Generating contraction hierarchies with 8 threads.\n",
      "Setting CH node vector of size 2641\n",
      "Setting CH edge vector of size 8218\n",
      "Range graph removed 8326 edges of 16436\n",
      ". 10% . 20% . 30% . 40% . 50% . 60% . 70% . 80% . 90% . 100%\n",
      " 100% "
     ]
    },
    {
     "name": "stderr",
     "output_type": "stream",
     "text": [
      "/var/folders/g4/ykwfgyl55t7dfzv_zc3dcshh0000gn/T/ipykernel_2750/3457703710.py:7: FutureWarning: The `geometries` module and `geometries_from_X` functions have been renamed the `features` module and `features_from_X` functions. Use these instead. The `geometries` module and function names are deprecated and will be removed in the v2.0.0 release.\n",
      "  poi = ox.geometries.geometries_from_place(cityname, tags=tags)\n"
     ]
    },
    {
     "name": "stdout",
     "output_type": "stream",
     "text": [
      "Generating contraction hierarchies with 8 threads.\n",
      "Setting CH node vector of size 722\n",
      "Setting CH edge vector of size 2192\n",
      "Range graph removed 2238 edges of 4384\n",
      ". 10% . 20% . 30% . 40% . 50% . 60% . 70% . 80% . 90% . 100%\n",
      " 100% "
     ]
    },
    {
     "name": "stderr",
     "output_type": "stream",
     "text": [
      "/var/folders/g4/ykwfgyl55t7dfzv_zc3dcshh0000gn/T/ipykernel_2750/3457703710.py:7: FutureWarning: The `geometries` module and `geometries_from_X` functions have been renamed the `features` module and `features_from_X` functions. Use these instead. The `geometries` module and function names are deprecated and will be removed in the v2.0.0 release.\n",
      "  poi = ox.geometries.geometries_from_place(cityname, tags=tags)\n"
     ]
    },
    {
     "name": "stdout",
     "output_type": "stream",
     "text": [
      "Generating contraction hierarchies with 8 threads.\n",
      "Setting CH node vector of size 3274\n",
      "Setting CH edge vector of size 10890\n",
      "Range graph removed 11040 edges of 21780\n",
      ". 10% . 20% . 30% . 40% . 50% . 60% . 70% . 80% . 90% . 100%\n"
     ]
    },
    {
     "name": "stderr",
     "output_type": "stream",
     "text": [
      "/var/folders/g4/ykwfgyl55t7dfzv_zc3dcshh0000gn/T/ipykernel_2750/3457703710.py:7: FutureWarning: The `geometries` module and `geometries_from_X` functions have been renamed the `features` module and `features_from_X` functions. Use these instead. The `geometries` module and function names are deprecated and will be removed in the v2.0.0 release.\n",
      "  poi = ox.geometries.geometries_from_place(cityname, tags=tags)\n"
     ]
    },
    {
     "name": "stdout",
     "output_type": "stream",
     "text": [
      "Generating contraction hierarchies with 8 threads.\n",
      "Setting CH node vector of size 1946\n",
      "Setting CH edge vector of size 6998\n",
      "Range graph removed 7016 edges of 13996\n",
      ". 10% . 20% . 30% . 40% . 50% . 60% . 70% . 80% . 90% . 100%\n"
     ]
    },
    {
     "name": "stderr",
     "output_type": "stream",
     "text": [
      "/var/folders/g4/ykwfgyl55t7dfzv_zc3dcshh0000gn/T/ipykernel_2750/3457703710.py:7: FutureWarning: The `geometries` module and `geometries_from_X` functions have been renamed the `features` module and `features_from_X` functions. Use these instead. The `geometries` module and function names are deprecated and will be removed in the v2.0.0 release.\n",
      "  poi = ox.geometries.geometries_from_place(cityname, tags=tags)\n"
     ]
    },
    {
     "name": "stdout",
     "output_type": "stream",
     "text": [
      "Generating contraction hierarchies with 8 threads.\n",
      "Setting CH node vector of size 3576\n",
      "Setting CH edge vector of size 12542\n",
      "Range graph removed 12614 edges of 25084\n",
      ". 10% . 20% . 30% . 40% . 50% . 60% . 70% . 80% . 90% . 100%\n"
     ]
    },
    {
     "name": "stderr",
     "output_type": "stream",
     "text": [
      "/var/folders/g4/ykwfgyl55t7dfzv_zc3dcshh0000gn/T/ipykernel_2750/3457703710.py:7: FutureWarning: The `geometries` module and `geometries_from_X` functions have been renamed the `features` module and `features_from_X` functions. Use these instead. The `geometries` module and function names are deprecated and will be removed in the v2.0.0 release.\n",
      "  poi = ox.geometries.geometries_from_place(cityname, tags=tags)\n"
     ]
    },
    {
     "name": "stdout",
     "output_type": "stream",
     "text": [
      "Generating contraction hierarchies with 8 threads.\n",
      "Setting CH node vector of size 7766\n",
      "Setting CH edge vector of size 27386\n",
      "Range graph removed 27490 edges of 54772\n",
      ". 10% . 20% . 30% . 40% . 50% . 60% . 70% . 80% . 90% . 100%\n"
     ]
    },
    {
     "name": "stderr",
     "output_type": "stream",
     "text": [
      "/var/folders/g4/ykwfgyl55t7dfzv_zc3dcshh0000gn/T/ipykernel_2750/3457703710.py:7: FutureWarning: The `geometries` module and `geometries_from_X` functions have been renamed the `features` module and `features_from_X` functions. Use these instead. The `geometries` module and function names are deprecated and will be removed in the v2.0.0 release.\n",
      "  poi = ox.geometries.geometries_from_place(cityname, tags=tags)\n"
     ]
    },
    {
     "name": "stdout",
     "output_type": "stream",
     "text": [
      "Generating contraction hierarchies with 8 threads.\n",
      "Setting CH node vector of size 5831\n",
      "Setting CH edge vector of size 20760\n",
      "Range graph removed 20892 edges of 41520\n",
      ". 10% . 20% . 30% . 40% . 50% . 60% . 70% . 80% . 90% . 100%\n"
     ]
    },
    {
     "name": "stderr",
     "output_type": "stream",
     "text": [
      "/var/folders/g4/ykwfgyl55t7dfzv_zc3dcshh0000gn/T/ipykernel_2750/3457703710.py:7: FutureWarning: The `geometries` module and `geometries_from_X` functions have been renamed the `features` module and `features_from_X` functions. Use these instead. The `geometries` module and function names are deprecated and will be removed in the v2.0.0 release.\n",
      "  poi = ox.geometries.geometries_from_place(cityname, tags=tags)\n"
     ]
    },
    {
     "name": "stdout",
     "output_type": "stream",
     "text": [
      "Generating contraction hierarchies with 8 threads.\n",
      "Setting CH node vector of size 9658\n",
      "Setting CH edge vector of size 33784\n",
      "Range graph removed 33970 edges of 67568\n",
      ". 10% . 20% . 30% . 40% . 50% . 60% . 70% . 80% . 90% . 100%\n"
     ]
    },
    {
     "name": "stderr",
     "output_type": "stream",
     "text": [
      "/var/folders/g4/ykwfgyl55t7dfzv_zc3dcshh0000gn/T/ipykernel_2750/3457703710.py:7: FutureWarning: The `geometries` module and `geometries_from_X` functions have been renamed the `features` module and `features_from_X` functions. Use these instead. The `geometries` module and function names are deprecated and will be removed in the v2.0.0 release.\n",
      "  poi = ox.geometries.geometries_from_place(cityname, tags=tags)\n"
     ]
    },
    {
     "name": "stdout",
     "output_type": "stream",
     "text": [
      "Generating contraction hierarchies with 8 threads.\n",
      "Setting CH node vector of size 11218\n",
      "Setting CH edge vector of size 40192\n",
      "Range graph removed 40428 edges of 80384\n",
      ". 10% . 20% . 30% . 40% . 50% . 60% . 70% . 80% . 90% . 100%\n"
     ]
    },
    {
     "name": "stderr",
     "output_type": "stream",
     "text": [
      "/var/folders/g4/ykwfgyl55t7dfzv_zc3dcshh0000gn/T/ipykernel_2750/3457703710.py:7: FutureWarning: The `geometries` module and `geometries_from_X` functions have been renamed the `features` module and `features_from_X` functions. Use these instead. The `geometries` module and function names are deprecated and will be removed in the v2.0.0 release.\n",
      "  poi = ox.geometries.geometries_from_place(cityname, tags=tags)\n"
     ]
    },
    {
     "name": "stdout",
     "output_type": "stream",
     "text": [
      "Generating contraction hierarchies with 8 threads.\n",
      "Setting CH node vector of size 2386\n",
      "Setting CH edge vector of size 8506\n",
      "Range graph removed 8554 edges of 17012\n",
      ". 10% . 20% . 30% . 40% . 50% . 60% . 70% . 80% . 90% . 100%\n"
     ]
    },
    {
     "name": "stderr",
     "output_type": "stream",
     "text": [
      "/var/folders/g4/ykwfgyl55t7dfzv_zc3dcshh0000gn/T/ipykernel_2750/3457703710.py:7: FutureWarning: The `geometries` module and `geometries_from_X` functions have been renamed the `features` module and `features_from_X` functions. Use these instead. The `geometries` module and function names are deprecated and will be removed in the v2.0.0 release.\n",
      "  poi = ox.geometries.geometries_from_place(cityname, tags=tags)\n"
     ]
    },
    {
     "name": "stdout",
     "output_type": "stream",
     "text": [
      "Generating contraction hierarchies with 8 threads.\n",
      "Setting CH node vector of size 3376\n",
      "Setting CH edge vector of size 11706\n",
      "Range graph removed 11768 edges of 23412\n",
      ". 10% . 20% . 30% . 40% . 50% . 60% . 70% . 80% . 90% . 100%\n"
     ]
    },
    {
     "name": "stderr",
     "output_type": "stream",
     "text": [
      "/var/folders/g4/ykwfgyl55t7dfzv_zc3dcshh0000gn/T/ipykernel_2750/3457703710.py:7: FutureWarning: The `geometries` module and `geometries_from_X` functions have been renamed the `features` module and `features_from_X` functions. Use these instead. The `geometries` module and function names are deprecated and will be removed in the v2.0.0 release.\n",
      "  poi = ox.geometries.geometries_from_place(cityname, tags=tags)\n"
     ]
    },
    {
     "name": "stdout",
     "output_type": "stream",
     "text": [
      "Generating contraction hierarchies with 8 threads.\n",
      "Setting CH node vector of size 13752\n",
      "Setting CH edge vector of size 44828\n",
      "Range graph removed 45326 edges of 89656\n",
      ". 10% . 20% . 30% . 40% . 50% . 60% . 70% . 80% . 90% . 100%\n"
     ]
    },
    {
     "name": "stderr",
     "output_type": "stream",
     "text": [
      "/var/folders/g4/ykwfgyl55t7dfzv_zc3dcshh0000gn/T/ipykernel_2750/3457703710.py:7: FutureWarning: The `geometries` module and `geometries_from_X` functions have been renamed the `features` module and `features_from_X` functions. Use these instead. The `geometries` module and function names are deprecated and will be removed in the v2.0.0 release.\n",
      "  poi = ox.geometries.geometries_from_place(cityname, tags=tags)\n"
     ]
    },
    {
     "name": "stdout",
     "output_type": "stream",
     "text": [
      "Generating contraction hierarchies with 8 threads.\n",
      "Setting CH node vector of size 4523\n",
      "Setting CH edge vector of size 15626\n",
      "Range graph removed 15754 edges of 31252\n",
      ". 10% . 20% . 30% . 40% . 50% . 60% . 70% . 80% . 90% . 100%\n"
     ]
    },
    {
     "name": "stderr",
     "output_type": "stream",
     "text": [
      "/var/folders/g4/ykwfgyl55t7dfzv_zc3dcshh0000gn/T/ipykernel_2750/3457703710.py:7: FutureWarning: The `geometries` module and `geometries_from_X` functions have been renamed the `features` module and `features_from_X` functions. Use these instead. The `geometries` module and function names are deprecated and will be removed in the v2.0.0 release.\n",
      "  poi = ox.geometries.geometries_from_place(cityname, tags=tags)\n"
     ]
    },
    {
     "name": "stdout",
     "output_type": "stream",
     "text": [
      "Generating contraction hierarchies with 8 threads.\n",
      "Setting CH node vector of size 4945\n",
      "Setting CH edge vector of size 17414\n",
      "Range graph removed 17518 edges of 34828\n",
      ". 10% . 20% . 30% . 40% . 50% . 60% . 70% . 80% . 90% . 100%\n"
     ]
    },
    {
     "name": "stderr",
     "output_type": "stream",
     "text": [
      "/var/folders/g4/ykwfgyl55t7dfzv_zc3dcshh0000gn/T/ipykernel_2750/3457703710.py:7: FutureWarning: The `geometries` module and `geometries_from_X` functions have been renamed the `features` module and `features_from_X` functions. Use these instead. The `geometries` module and function names are deprecated and will be removed in the v2.0.0 release.\n",
      "  poi = ox.geometries.geometries_from_place(cityname, tags=tags)\n"
     ]
    },
    {
     "name": "stdout",
     "output_type": "stream",
     "text": [
      "Generating contraction hierarchies with 8 threads.\n",
      "Setting CH node vector of size 4305\n",
      "Setting CH edge vector of size 14628\n",
      "Range graph removed 14768 edges of 29256\n",
      ". 10% . 20% . 30% . 40% . 50% . 60% . 70% . 80% . 90% . 100%\n"
     ]
    },
    {
     "name": "stderr",
     "output_type": "stream",
     "text": [
      "/var/folders/g4/ykwfgyl55t7dfzv_zc3dcshh0000gn/T/ipykernel_2750/3457703710.py:7: FutureWarning: The `geometries` module and `geometries_from_X` functions have been renamed the `features` module and `features_from_X` functions. Use these instead. The `geometries` module and function names are deprecated and will be removed in the v2.0.0 release.\n",
      "  poi = ox.geometries.geometries_from_place(cityname, tags=tags)\n"
     ]
    },
    {
     "name": "stdout",
     "output_type": "stream",
     "text": [
      "Generating contraction hierarchies with 8 threads.\n",
      "Setting CH node vector of size 5722\n",
      "Setting CH edge vector of size 17694\n",
      "Range graph removed 17874 edges of 35388\n",
      ". 10% . 20% . 30% . 40% . 50% . 60% . 70% . 80% . 90% . 100%\n"
     ]
    },
    {
     "name": "stderr",
     "output_type": "stream",
     "text": [
      "/var/folders/g4/ykwfgyl55t7dfzv_zc3dcshh0000gn/T/ipykernel_2750/3457703710.py:7: FutureWarning: The `geometries` module and `geometries_from_X` functions have been renamed the `features` module and `features_from_X` functions. Use these instead. The `geometries` module and function names are deprecated and will be removed in the v2.0.0 release.\n",
      "  poi = ox.geometries.geometries_from_place(cityname, tags=tags)\n"
     ]
    },
    {
     "name": "stdout",
     "output_type": "stream",
     "text": [
      "Generating contraction hierarchies with 8 threads.\n",
      "Setting CH node vector of size 2136\n",
      "Setting CH edge vector of size 6802\n",
      "Range graph removed 6902 edges of 13604\n",
      ". 10% . 20% . 30% . 40% . 50% . 60% . 70% . 80% . 90% . 100%\n"
     ]
    },
    {
     "name": "stderr",
     "output_type": "stream",
     "text": [
      "/var/folders/g4/ykwfgyl55t7dfzv_zc3dcshh0000gn/T/ipykernel_2750/3457703710.py:7: FutureWarning: The `geometries` module and `geometries_from_X` functions have been renamed the `features` module and `features_from_X` functions. Use these instead. The `geometries` module and function names are deprecated and will be removed in the v2.0.0 release.\n",
      "  poi = ox.geometries.geometries_from_place(cityname, tags=tags)\n"
     ]
    },
    {
     "name": "stdout",
     "output_type": "stream",
     "text": [
      "Generating contraction hierarchies with 8 threads.\n",
      "Setting CH node vector of size 2268\n",
      "Setting CH edge vector of size 7074\n",
      "Range graph removed 7174 edges of 14148\n",
      ". 10% . 20% . 30% . 40% . 50% . 60% . 70% . 80% . 90% . 100%\n",
      " 100% "
     ]
    },
    {
     "name": "stderr",
     "output_type": "stream",
     "text": [
      "/var/folders/g4/ykwfgyl55t7dfzv_zc3dcshh0000gn/T/ipykernel_2750/3457703710.py:7: FutureWarning: The `geometries` module and `geometries_from_X` functions have been renamed the `features` module and `features_from_X` functions. Use these instead. The `geometries` module and function names are deprecated and will be removed in the v2.0.0 release.\n",
      "  poi = ox.geometries.geometries_from_place(cityname, tags=tags)\n"
     ]
    },
    {
     "name": "stdout",
     "output_type": "stream",
     "text": [
      "Generating contraction hierarchies with 8 threads.\n",
      "Setting CH node vector of size 3270\n",
      "Setting CH edge vector of size 10248\n",
      "Range graph removed 10408 edges of 20496\n",
      ". 10% . 20% . 30% . 40% . 50% . 60% . 70% . 80% . 90% . 100%\n"
     ]
    },
    {
     "name": "stderr",
     "output_type": "stream",
     "text": [
      "/var/folders/g4/ykwfgyl55t7dfzv_zc3dcshh0000gn/T/ipykernel_2750/3457703710.py:7: FutureWarning: The `geometries` module and `geometries_from_X` functions have been renamed the `features` module and `features_from_X` functions. Use these instead. The `geometries` module and function names are deprecated and will be removed in the v2.0.0 release.\n",
      "  poi = ox.geometries.geometries_from_place(cityname, tags=tags)\n"
     ]
    },
    {
     "name": "stdout",
     "output_type": "stream",
     "text": [
      "Generating contraction hierarchies with 8 threads.\n",
      "Setting CH node vector of size 1051\n",
      "Setting CH edge vector of size 3414\n",
      "Range graph removed 3446 edges of 6828\n",
      ". 10% . 20% . 30% . 40% . 50% . 60% . 70% . 80% . 90% . 100%\n",
      " 100% "
     ]
    },
    {
     "name": "stderr",
     "output_type": "stream",
     "text": [
      "/var/folders/g4/ykwfgyl55t7dfzv_zc3dcshh0000gn/T/ipykernel_2750/3457703710.py:7: FutureWarning: The `geometries` module and `geometries_from_X` functions have been renamed the `features` module and `features_from_X` functions. Use these instead. The `geometries` module and function names are deprecated and will be removed in the v2.0.0 release.\n",
      "  poi = ox.geometries.geometries_from_place(cityname, tags=tags)\n"
     ]
    },
    {
     "name": "stdout",
     "output_type": "stream",
     "text": [
      "Generating contraction hierarchies with 8 threads.\n",
      "Setting CH node vector of size 984\n",
      "Setting CH edge vector of size 3274\n",
      "Range graph removed 3306 edges of 6548\n",
      ". 10% . 20% . 30% . 40% . 50% . 60% . 70% . 80% . 90% . 100%\n",
      " 100% "
     ]
    },
    {
     "name": "stderr",
     "output_type": "stream",
     "text": [
      "/var/folders/g4/ykwfgyl55t7dfzv_zc3dcshh0000gn/T/ipykernel_2750/3457703710.py:7: FutureWarning: The `geometries` module and `geometries_from_X` functions have been renamed the `features` module and `features_from_X` functions. Use these instead. The `geometries` module and function names are deprecated and will be removed in the v2.0.0 release.\n",
      "  poi = ox.geometries.geometries_from_place(cityname, tags=tags)\n"
     ]
    },
    {
     "name": "stdout",
     "output_type": "stream",
     "text": [
      "Generating contraction hierarchies with 8 threads.\n",
      "Setting CH node vector of size 3333\n",
      "Setting CH edge vector of size 11408\n",
      "Range graph removed 11484 edges of 22816\n",
      ". 10% . 20% . 30% . 40% . 50% . 60% . 70% . 80% . 90% . 100%\n",
      " 100% "
     ]
    },
    {
     "name": "stderr",
     "output_type": "stream",
     "text": [
      "/var/folders/g4/ykwfgyl55t7dfzv_zc3dcshh0000gn/T/ipykernel_2750/3457703710.py:7: FutureWarning: The `geometries` module and `geometries_from_X` functions have been renamed the `features` module and `features_from_X` functions. Use these instead. The `geometries` module and function names are deprecated and will be removed in the v2.0.0 release.\n",
      "  poi = ox.geometries.geometries_from_place(cityname, tags=tags)\n"
     ]
    },
    {
     "name": "stdout",
     "output_type": "stream",
     "text": [
      "Generating contraction hierarchies with 8 threads.\n",
      "Setting CH node vector of size 1481\n",
      "Setting CH edge vector of size 4802\n",
      "Range graph removed 4874 edges of 9604\n",
      ". 10% . 20% . 30% . 40% . 50% . 60% . 70% . 80% . 90% . 100%\n"
     ]
    },
    {
     "name": "stderr",
     "output_type": "stream",
     "text": [
      "/var/folders/g4/ykwfgyl55t7dfzv_zc3dcshh0000gn/T/ipykernel_2750/3457703710.py:7: FutureWarning: The `geometries` module and `geometries_from_X` functions have been renamed the `features` module and `features_from_X` functions. Use these instead. The `geometries` module and function names are deprecated and will be removed in the v2.0.0 release.\n",
      "  poi = ox.geometries.geometries_from_place(cityname, tags=tags)\n"
     ]
    },
    {
     "name": "stdout",
     "output_type": "stream",
     "text": [
      "Generating contraction hierarchies with 8 threads.\n",
      "Setting CH node vector of size 1669\n",
      "Setting CH edge vector of size 5592\n",
      "Range graph removed 5644 edges of 11184\n",
      ". 10% . 20% . 30% . 40% . 50% . 60% . 70% . 80% . 90% . 100%\n"
     ]
    },
    {
     "name": "stderr",
     "output_type": "stream",
     "text": [
      "/var/folders/g4/ykwfgyl55t7dfzv_zc3dcshh0000gn/T/ipykernel_2750/3457703710.py:7: FutureWarning: The `geometries` module and `geometries_from_X` functions have been renamed the `features` module and `features_from_X` functions. Use these instead. The `geometries` module and function names are deprecated and will be removed in the v2.0.0 release.\n",
      "  poi = ox.geometries.geometries_from_place(cityname, tags=tags)\n"
     ]
    },
    {
     "name": "stdout",
     "output_type": "stream",
     "text": [
      "Generating contraction hierarchies with 8 threads.\n",
      "Setting CH node vector of size 2862\n",
      "Setting CH edge vector of size 9514\n",
      "Range graph removed 9582 edges of 19028\n",
      ". 10% . 20% . 30% . 40% . 50% . 60% . 70% . 80% . 90% . 100%\n"
     ]
    },
    {
     "name": "stderr",
     "output_type": "stream",
     "text": [
      "/var/folders/g4/ykwfgyl55t7dfzv_zc3dcshh0000gn/T/ipykernel_2750/3457703710.py:7: FutureWarning: The `geometries` module and `geometries_from_X` functions have been renamed the `features` module and `features_from_X` functions. Use these instead. The `geometries` module and function names are deprecated and will be removed in the v2.0.0 release.\n",
      "  poi = ox.geometries.geometries_from_place(cityname, tags=tags)\n"
     ]
    },
    {
     "name": "stdout",
     "output_type": "stream",
     "text": [
      "Generating contraction hierarchies with 8 threads.\n",
      "Setting CH node vector of size 3174\n",
      "Setting CH edge vector of size 10838\n",
      "Range graph removed 10930 edges of 21676\n",
      ". 10% . 20% . 30% . 40% . 50% . 60% . 70% . 80% . 90% . 100%\n"
     ]
    },
    {
     "name": "stderr",
     "output_type": "stream",
     "text": [
      "/var/folders/g4/ykwfgyl55t7dfzv_zc3dcshh0000gn/T/ipykernel_2750/3457703710.py:7: FutureWarning: The `geometries` module and `geometries_from_X` functions have been renamed the `features` module and `features_from_X` functions. Use these instead. The `geometries` module and function names are deprecated and will be removed in the v2.0.0 release.\n",
      "  poi = ox.geometries.geometries_from_place(cityname, tags=tags)\n"
     ]
    },
    {
     "name": "stdout",
     "output_type": "stream",
     "text": [
      "Generating contraction hierarchies with 8 threads.\n",
      "Setting CH node vector of size 5333\n",
      "Setting CH edge vector of size 19080\n",
      "Range graph removed 19176 edges of 38160\n",
      ". 10% . 20% . 30% . 40% . 50% . 60% . 70% . 80% . 90% . 100%\n"
     ]
    },
    {
     "name": "stderr",
     "output_type": "stream",
     "text": [
      "/var/folders/g4/ykwfgyl55t7dfzv_zc3dcshh0000gn/T/ipykernel_2750/3457703710.py:7: FutureWarning: The `geometries` module and `geometries_from_X` functions have been renamed the `features` module and `features_from_X` functions. Use these instead. The `geometries` module and function names are deprecated and will be removed in the v2.0.0 release.\n",
      "  poi = ox.geometries.geometries_from_place(cityname, tags=tags)\n"
     ]
    },
    {
     "name": "stdout",
     "output_type": "stream",
     "text": [
      "Generating contraction hierarchies with 8 threads.\n",
      "Setting CH node vector of size 1936\n",
      "Setting CH edge vector of size 6140\n",
      "Range graph removed 6216 edges of 12280\n",
      ". 10% . 20% . 30% . 40% . 50% . 60% . 70% . 80% . 90% . 100%\n"
     ]
    },
    {
     "name": "stderr",
     "output_type": "stream",
     "text": [
      "/var/folders/g4/ykwfgyl55t7dfzv_zc3dcshh0000gn/T/ipykernel_2750/3457703710.py:7: FutureWarning: The `geometries` module and `geometries_from_X` functions have been renamed the `features` module and `features_from_X` functions. Use these instead. The `geometries` module and function names are deprecated and will be removed in the v2.0.0 release.\n",
      "  poi = ox.geometries.geometries_from_place(cityname, tags=tags)\n"
     ]
    },
    {
     "name": "stdout",
     "output_type": "stream",
     "text": [
      "Generating contraction hierarchies with 8 threads.\n",
      "Setting CH node vector of size 898\n",
      "Setting CH edge vector of size 2868\n",
      "Range graph removed 2904 edges of 5736\n",
      ". 10% . 20% . 30% . 40% . 50% . 60% . 70% . 80% . 90% . 100%\n",
      " 100% "
     ]
    },
    {
     "name": "stderr",
     "output_type": "stream",
     "text": [
      "/var/folders/g4/ykwfgyl55t7dfzv_zc3dcshh0000gn/T/ipykernel_2750/3457703710.py:7: FutureWarning: The `geometries` module and `geometries_from_X` functions have been renamed the `features` module and `features_from_X` functions. Use these instead. The `geometries` module and function names are deprecated and will be removed in the v2.0.0 release.\n",
      "  poi = ox.geometries.geometries_from_place(cityname, tags=tags)\n"
     ]
    },
    {
     "name": "stdout",
     "output_type": "stream",
     "text": [
      "Generating contraction hierarchies with 8 threads.\n",
      "Setting CH node vector of size 4457\n",
      "Setting CH edge vector of size 16064\n",
      "Range graph removed 16122 edges of 32128\n",
      ". 10% . 20% . 30% . 40% . 50% . 60% . 70% . 80% . 90% . 100%\n"
     ]
    },
    {
     "name": "stderr",
     "output_type": "stream",
     "text": [
      "/var/folders/g4/ykwfgyl55t7dfzv_zc3dcshh0000gn/T/ipykernel_2750/3457703710.py:7: FutureWarning: The `geometries` module and `geometries_from_X` functions have been renamed the `features` module and `features_from_X` functions. Use these instead. The `geometries` module and function names are deprecated and will be removed in the v2.0.0 release.\n",
      "  poi = ox.geometries.geometries_from_place(cityname, tags=tags)\n"
     ]
    },
    {
     "name": "stdout",
     "output_type": "stream",
     "text": [
      "Generating contraction hierarchies with 8 threads.\n",
      "Setting CH node vector of size 1146\n",
      "Setting CH edge vector of size 3670\n",
      "Range graph removed 3728 edges of 7340\n",
      ". 10% . 20% . 30% . 40% . 50% . 60% . 70% . 80% . 90% . 100%\n",
      " 100% "
     ]
    },
    {
     "name": "stderr",
     "output_type": "stream",
     "text": [
      "/var/folders/g4/ykwfgyl55t7dfzv_zc3dcshh0000gn/T/ipykernel_2750/3457703710.py:7: FutureWarning: The `geometries` module and `geometries_from_X` functions have been renamed the `features` module and `features_from_X` functions. Use these instead. The `geometries` module and function names are deprecated and will be removed in the v2.0.0 release.\n",
      "  poi = ox.geometries.geometries_from_place(cityname, tags=tags)\n"
     ]
    },
    {
     "name": "stdout",
     "output_type": "stream",
     "text": [
      "Generating contraction hierarchies with 8 threads.\n",
      "Setting CH node vector of size 3090\n",
      "Setting CH edge vector of size 9868\n",
      "Range graph removed 10052 edges of 19736\n",
      ". 10% . 20% . 30% . 40% . 50% . 60% . 70% . 80% . 90% . 100%\n",
      " 100% "
     ]
    },
    {
     "name": "stderr",
     "output_type": "stream",
     "text": [
      "/var/folders/g4/ykwfgyl55t7dfzv_zc3dcshh0000gn/T/ipykernel_2750/3457703710.py:7: FutureWarning: The `geometries` module and `geometries_from_X` functions have been renamed the `features` module and `features_from_X` functions. Use these instead. The `geometries` module and function names are deprecated and will be removed in the v2.0.0 release.\n",
      "  poi = ox.geometries.geometries_from_place(cityname, tags=tags)\n"
     ]
    },
    {
     "name": "stdout",
     "output_type": "stream",
     "text": [
      "Generating contraction hierarchies with 8 threads.\n",
      "Setting CH node vector of size 1139\n",
      "Setting CH edge vector of size 3496\n",
      "Range graph removed 3584 edges of 6992\n",
      ". 10% . 20% . 30% . 40% . 50% . 60% . 70% . 80% . 90% . 100%\n",
      " 100% "
     ]
    },
    {
     "name": "stderr",
     "output_type": "stream",
     "text": [
      "/var/folders/g4/ykwfgyl55t7dfzv_zc3dcshh0000gn/T/ipykernel_2750/3457703710.py:7: FutureWarning: The `geometries` module and `geometries_from_X` functions have been renamed the `features` module and `features_from_X` functions. Use these instead. The `geometries` module and function names are deprecated and will be removed in the v2.0.0 release.\n",
      "  poi = ox.geometries.geometries_from_place(cityname, tags=tags)\n"
     ]
    },
    {
     "name": "stdout",
     "output_type": "stream",
     "text": [
      "Generating contraction hierarchies with 8 threads.\n",
      "Setting CH node vector of size 1974\n",
      "Setting CH edge vector of size 6266\n",
      "Range graph removed 6400 edges of 12532\n",
      ". 10% . 20% . 30% . 40% . 50% . 60% . 70% . 80% . 90% . 100%\n",
      " 100% "
     ]
    },
    {
     "name": "stderr",
     "output_type": "stream",
     "text": [
      "/var/folders/g4/ykwfgyl55t7dfzv_zc3dcshh0000gn/T/ipykernel_2750/3457703710.py:7: FutureWarning: The `geometries` module and `geometries_from_X` functions have been renamed the `features` module and `features_from_X` functions. Use these instead. The `geometries` module and function names are deprecated and will be removed in the v2.0.0 release.\n",
      "  poi = ox.geometries.geometries_from_place(cityname, tags=tags)\n"
     ]
    },
    {
     "name": "stdout",
     "output_type": "stream",
     "text": [
      "Generating contraction hierarchies with 8 threads.\n",
      "Setting CH node vector of size 1438\n",
      "Setting CH edge vector of size 4912\n",
      "Range graph removed 4954 edges of 9824\n",
      ". 10% . 20% . 30% . 40% . 50% . 60% . 70% . 80% . 90% . 100%\n",
      " 100% "
     ]
    },
    {
     "name": "stderr",
     "output_type": "stream",
     "text": [
      "/var/folders/g4/ykwfgyl55t7dfzv_zc3dcshh0000gn/T/ipykernel_2750/3457703710.py:7: FutureWarning: The `geometries` module and `geometries_from_X` functions have been renamed the `features` module and `features_from_X` functions. Use these instead. The `geometries` module and function names are deprecated and will be removed in the v2.0.0 release.\n",
      "  poi = ox.geometries.geometries_from_place(cityname, tags=tags)\n"
     ]
    },
    {
     "name": "stdout",
     "output_type": "stream",
     "text": [
      "Generating contraction hierarchies with 8 threads.\n",
      "Setting CH node vector of size 2595\n",
      "Setting CH edge vector of size 8338\n",
      "Range graph removed 8390 edges of 16676\n",
      ". 10% . 20% . 30% . 40% . 50% . 60% . 70% . 80% . 90% . 100%\n"
     ]
    },
    {
     "name": "stderr",
     "output_type": "stream",
     "text": [
      "/var/folders/g4/ykwfgyl55t7dfzv_zc3dcshh0000gn/T/ipykernel_2750/3457703710.py:7: FutureWarning: The `geometries` module and `geometries_from_X` functions have been renamed the `features` module and `features_from_X` functions. Use these instead. The `geometries` module and function names are deprecated and will be removed in the v2.0.0 release.\n",
      "  poi = ox.geometries.geometries_from_place(cityname, tags=tags)\n"
     ]
    },
    {
     "name": "stdout",
     "output_type": "stream",
     "text": [
      "Generating contraction hierarchies with 8 threads.\n",
      "Setting CH node vector of size 2178\n",
      "Setting CH edge vector of size 7338\n",
      "Range graph removed 7394 edges of 14676\n",
      ". 10% . 20% . 30% . 40% . 50% . 60% . 70% . 80% . 90% . 100%\n"
     ]
    },
    {
     "name": "stderr",
     "output_type": "stream",
     "text": [
      "/var/folders/g4/ykwfgyl55t7dfzv_zc3dcshh0000gn/T/ipykernel_2750/3457703710.py:7: FutureWarning: The `geometries` module and `geometries_from_X` functions have been renamed the `features` module and `features_from_X` functions. Use these instead. The `geometries` module and function names are deprecated and will be removed in the v2.0.0 release.\n",
      "  poi = ox.geometries.geometries_from_place(cityname, tags=tags)\n"
     ]
    },
    {
     "name": "stdout",
     "output_type": "stream",
     "text": [
      "Generating contraction hierarchies with 8 threads.\n",
      "Setting CH node vector of size 4105\n",
      "Setting CH edge vector of size 14020\n",
      "Range graph removed 14170 edges of 28040\n",
      ". 10% . 20% . 30% . 40% . 50% . 60% . 70% . 80% . 90% . 100%\n"
     ]
    },
    {
     "name": "stderr",
     "output_type": "stream",
     "text": [
      "/var/folders/g4/ykwfgyl55t7dfzv_zc3dcshh0000gn/T/ipykernel_2750/3457703710.py:7: FutureWarning: The `geometries` module and `geometries_from_X` functions have been renamed the `features` module and `features_from_X` functions. Use these instead. The `geometries` module and function names are deprecated and will be removed in the v2.0.0 release.\n",
      "  poi = ox.geometries.geometries_from_place(cityname, tags=tags)\n"
     ]
    },
    {
     "name": "stdout",
     "output_type": "stream",
     "text": [
      "Generating contraction hierarchies with 8 threads.\n",
      "Setting CH node vector of size 1218\n",
      "Setting CH edge vector of size 3820\n",
      "Range graph removed 3888 edges of 7640\n",
      ". 10% . 20% . 30% . 40% . 50% . 60% . 70% . 80% . 90% . 100%\n",
      " 100% "
     ]
    },
    {
     "name": "stderr",
     "output_type": "stream",
     "text": [
      "/var/folders/g4/ykwfgyl55t7dfzv_zc3dcshh0000gn/T/ipykernel_2750/3457703710.py:7: FutureWarning: The `geometries` module and `geometries_from_X` functions have been renamed the `features` module and `features_from_X` functions. Use these instead. The `geometries` module and function names are deprecated and will be removed in the v2.0.0 release.\n",
      "  poi = ox.geometries.geometries_from_place(cityname, tags=tags)\n"
     ]
    },
    {
     "name": "stdout",
     "output_type": "stream",
     "text": [
      "Generating contraction hierarchies with 8 threads.\n",
      "Setting CH node vector of size 4199\n",
      "Setting CH edge vector of size 14818\n",
      "Range graph removed 14916 edges of 29636\n",
      ". 10% . 20% . 30% . 40% . 50% . 60% . 70% . 80% . 90% . 100%\n"
     ]
    },
    {
     "name": "stderr",
     "output_type": "stream",
     "text": [
      "/var/folders/g4/ykwfgyl55t7dfzv_zc3dcshh0000gn/T/ipykernel_2750/3457703710.py:7: FutureWarning: The `geometries` module and `geometries_from_X` functions have been renamed the `features` module and `features_from_X` functions. Use these instead. The `geometries` module and function names are deprecated and will be removed in the v2.0.0 release.\n",
      "  poi = ox.geometries.geometries_from_place(cityname, tags=tags)\n"
     ]
    },
    {
     "name": "stdout",
     "output_type": "stream",
     "text": [
      "Generating contraction hierarchies with 8 threads.\n",
      "Setting CH node vector of size 3969\n",
      "Setting CH edge vector of size 13574\n",
      "Range graph removed 13648 edges of 27148\n",
      ". 10% . 20% . 30% . 40% . 50% . 60% . 70% . 80% . 90% . 100%\n"
     ]
    },
    {
     "name": "stderr",
     "output_type": "stream",
     "text": [
      "/var/folders/g4/ykwfgyl55t7dfzv_zc3dcshh0000gn/T/ipykernel_2750/3457703710.py:7: FutureWarning: The `geometries` module and `geometries_from_X` functions have been renamed the `features` module and `features_from_X` functions. Use these instead. The `geometries` module and function names are deprecated and will be removed in the v2.0.0 release.\n",
      "  poi = ox.geometries.geometries_from_place(cityname, tags=tags)\n"
     ]
    },
    {
     "name": "stdout",
     "output_type": "stream",
     "text": [
      "Generating contraction hierarchies with 8 threads.\n",
      "Setting CH node vector of size 4996\n",
      "Setting CH edge vector of size 16878\n",
      "Range graph removed 17030 edges of 33756\n",
      ". 10% . 20% . 30% . 40% . 50% . 60% . 70% . 80% . 90% . 100%\n"
     ]
    },
    {
     "name": "stderr",
     "output_type": "stream",
     "text": [
      "/var/folders/g4/ykwfgyl55t7dfzv_zc3dcshh0000gn/T/ipykernel_2750/3457703710.py:7: FutureWarning: The `geometries` module and `geometries_from_X` functions have been renamed the `features` module and `features_from_X` functions. Use these instead. The `geometries` module and function names are deprecated and will be removed in the v2.0.0 release.\n",
      "  poi = ox.geometries.geometries_from_place(cityname, tags=tags)\n"
     ]
    },
    {
     "name": "stdout",
     "output_type": "stream",
     "text": [
      "Generating contraction hierarchies with 8 threads.\n",
      "Setting CH node vector of size 793\n",
      "Setting CH edge vector of size 2546\n",
      "Range graph removed 2582 edges of 5092\n",
      ". 10% . 20% . 30% . 40% . 50% . 60% . 70% . 80% . 90% . 100%\n",
      " 100% "
     ]
    },
    {
     "name": "stderr",
     "output_type": "stream",
     "text": [
      "/var/folders/g4/ykwfgyl55t7dfzv_zc3dcshh0000gn/T/ipykernel_2750/3457703710.py:7: FutureWarning: The `geometries` module and `geometries_from_X` functions have been renamed the `features` module and `features_from_X` functions. Use these instead. The `geometries` module and function names are deprecated and will be removed in the v2.0.0 release.\n",
      "  poi = ox.geometries.geometries_from_place(cityname, tags=tags)\n"
     ]
    },
    {
     "name": "stdout",
     "output_type": "stream",
     "text": [
      "Generating contraction hierarchies with 8 threads.\n",
      "Setting CH node vector of size 1426\n",
      "Setting CH edge vector of size 4576\n",
      "Range graph removed 4640 edges of 9152\n",
      ". 10% . 20% . 30% . 40% . 50% . 60% . 70% . 80% . 90% . 100%\n",
      " 100% "
     ]
    },
    {
     "name": "stderr",
     "output_type": "stream",
     "text": [
      "/var/folders/g4/ykwfgyl55t7dfzv_zc3dcshh0000gn/T/ipykernel_2750/3457703710.py:7: FutureWarning: The `geometries` module and `geometries_from_X` functions have been renamed the `features` module and `features_from_X` functions. Use these instead. The `geometries` module and function names are deprecated and will be removed in the v2.0.0 release.\n",
      "  poi = ox.geometries.geometries_from_place(cityname, tags=tags)\n"
     ]
    },
    {
     "name": "stdout",
     "output_type": "stream",
     "text": [
      "Generating contraction hierarchies with 8 threads.\n",
      "Setting CH node vector of size 1997\n",
      "Setting CH edge vector of size 6288\n",
      "Range graph removed 6366 edges of 12576\n",
      ". 10% . 20% . 30% . 40% . 50% . 60% . 70% . 80% . 90% . 100%\n",
      " 100% "
     ]
    },
    {
     "name": "stderr",
     "output_type": "stream",
     "text": [
      "/var/folders/g4/ykwfgyl55t7dfzv_zc3dcshh0000gn/T/ipykernel_2750/3457703710.py:7: FutureWarning: The `geometries` module and `geometries_from_X` functions have been renamed the `features` module and `features_from_X` functions. Use these instead. The `geometries` module and function names are deprecated and will be removed in the v2.0.0 release.\n",
      "  poi = ox.geometries.geometries_from_place(cityname, tags=tags)\n"
     ]
    },
    {
     "name": "stdout",
     "output_type": "stream",
     "text": [
      "Generating contraction hierarchies with 8 threads.\n",
      "Setting CH node vector of size 1992\n",
      "Setting CH edge vector of size 6440\n",
      "Range graph removed 6520 edges of 12880\n",
      ". 10% . 20% . 30% . 40% . 50% . 60% . 70% . 80% . 90% . 100%\n"
     ]
    },
    {
     "name": "stderr",
     "output_type": "stream",
     "text": [
      "/var/folders/g4/ykwfgyl55t7dfzv_zc3dcshh0000gn/T/ipykernel_2750/3457703710.py:7: FutureWarning: The `geometries` module and `geometries_from_X` functions have been renamed the `features` module and `features_from_X` functions. Use these instead. The `geometries` module and function names are deprecated and will be removed in the v2.0.0 release.\n",
      "  poi = ox.geometries.geometries_from_place(cityname, tags=tags)\n"
     ]
    },
    {
     "name": "stdout",
     "output_type": "stream",
     "text": [
      "Generating contraction hierarchies with 8 threads.\n",
      "Setting CH node vector of size 2597\n",
      "Setting CH edge vector of size 8830\n",
      "Range graph removed 8926 edges of 17660\n",
      ". 10% . 20% . 30% . 40% . 50% . 60% . 70% . 80% . 90% . 100%\n"
     ]
    },
    {
     "name": "stderr",
     "output_type": "stream",
     "text": [
      "/var/folders/g4/ykwfgyl55t7dfzv_zc3dcshh0000gn/T/ipykernel_2750/3457703710.py:7: FutureWarning: The `geometries` module and `geometries_from_X` functions have been renamed the `features` module and `features_from_X` functions. Use these instead. The `geometries` module and function names are deprecated and will be removed in the v2.0.0 release.\n",
      "  poi = ox.geometries.geometries_from_place(cityname, tags=tags)\n"
     ]
    },
    {
     "name": "stdout",
     "output_type": "stream",
     "text": [
      "Generating contraction hierarchies with 8 threads.\n",
      "Setting CH node vector of size 3551\n",
      "Setting CH edge vector of size 12624\n",
      "Range graph removed 12672 edges of 25248\n",
      ". 10% . 20% . 30% . 40% . 50% . 60% . 70% . 80% . 90% . 100%\n"
     ]
    },
    {
     "name": "stderr",
     "output_type": "stream",
     "text": [
      "/var/folders/g4/ykwfgyl55t7dfzv_zc3dcshh0000gn/T/ipykernel_2750/3457703710.py:7: FutureWarning: The `geometries` module and `geometries_from_X` functions have been renamed the `features` module and `features_from_X` functions. Use these instead. The `geometries` module and function names are deprecated and will be removed in the v2.0.0 release.\n",
      "  poi = ox.geometries.geometries_from_place(cityname, tags=tags)\n"
     ]
    },
    {
     "name": "stdout",
     "output_type": "stream",
     "text": [
      "Generating contraction hierarchies with 8 threads.\n",
      "Setting CH node vector of size 2956\n",
      "Setting CH edge vector of size 9786\n",
      "Range graph removed 9862 edges of 19572\n",
      ". 10% . 20% . 30% . 40% . 50% . 60% . 70% . 80% . 90% . 100%\n"
     ]
    },
    {
     "name": "stderr",
     "output_type": "stream",
     "text": [
      "/var/folders/g4/ykwfgyl55t7dfzv_zc3dcshh0000gn/T/ipykernel_2750/3457703710.py:7: FutureWarning: The `geometries` module and `geometries_from_X` functions have been renamed the `features` module and `features_from_X` functions. Use these instead. The `geometries` module and function names are deprecated and will be removed in the v2.0.0 release.\n",
      "  poi = ox.geometries.geometries_from_place(cityname, tags=tags)\n"
     ]
    },
    {
     "name": "stdout",
     "output_type": "stream",
     "text": [
      "Generating contraction hierarchies with 8 threads.\n",
      "Setting CH node vector of size 3476\n",
      "Setting CH edge vector of size 11648\n",
      "Range graph removed 11752 edges of 23296\n",
      ". 10% . 20% . 30% . 40% . 50% . 60% . 70% . 80% . 90% . 100%\n"
     ]
    },
    {
     "name": "stderr",
     "output_type": "stream",
     "text": [
      "/var/folders/g4/ykwfgyl55t7dfzv_zc3dcshh0000gn/T/ipykernel_2750/3457703710.py:7: FutureWarning: The `geometries` module and `geometries_from_X` functions have been renamed the `features` module and `features_from_X` functions. Use these instead. The `geometries` module and function names are deprecated and will be removed in the v2.0.0 release.\n",
      "  poi = ox.geometries.geometries_from_place(cityname, tags=tags)\n"
     ]
    },
    {
     "name": "stdout",
     "output_type": "stream",
     "text": [
      "Generating contraction hierarchies with 8 threads.\n",
      "Setting CH node vector of size 2883\n",
      "Setting CH edge vector of size 9036\n",
      "Range graph removed 9162 edges of 18072\n",
      ". 10% . 20% . 30% . 40% . 50% . 60% . 70% . 80% . 90% . 100%\n",
      " 100% "
     ]
    },
    {
     "name": "stderr",
     "output_type": "stream",
     "text": [
      "/var/folders/g4/ykwfgyl55t7dfzv_zc3dcshh0000gn/T/ipykernel_2750/3457703710.py:7: FutureWarning: The `geometries` module and `geometries_from_X` functions have been renamed the `features` module and `features_from_X` functions. Use these instead. The `geometries` module and function names are deprecated and will be removed in the v2.0.0 release.\n",
      "  poi = ox.geometries.geometries_from_place(cityname, tags=tags)\n"
     ]
    },
    {
     "name": "stdout",
     "output_type": "stream",
     "text": [
      "Generating contraction hierarchies with 8 threads.\n",
      "Setting CH node vector of size 2751\n",
      "Setting CH edge vector of size 9172\n",
      "Range graph removed 9292 edges of 18344\n",
      ". 10% . 20% . 30% . 40% . 50% . 60% . 70% . 80% . 90% . 100%\n"
     ]
    },
    {
     "name": "stderr",
     "output_type": "stream",
     "text": [
      "/var/folders/g4/ykwfgyl55t7dfzv_zc3dcshh0000gn/T/ipykernel_2750/3457703710.py:7: FutureWarning: The `geometries` module and `geometries_from_X` functions have been renamed the `features` module and `features_from_X` functions. Use these instead. The `geometries` module and function names are deprecated and will be removed in the v2.0.0 release.\n",
      "  poi = ox.geometries.geometries_from_place(cityname, tags=tags)\n"
     ]
    },
    {
     "name": "stdout",
     "output_type": "stream",
     "text": [
      "Generating contraction hierarchies with 8 threads.\n",
      "Setting CH node vector of size 1663\n",
      "Setting CH edge vector of size 5150\n",
      "Range graph removed 5214 edges of 10300\n",
      ". 10% . 20% . 30% . 40% . 50% . 60% . 70% . 80% . 90% . 100%\n",
      " 100% "
     ]
    },
    {
     "name": "stderr",
     "output_type": "stream",
     "text": [
      "/var/folders/g4/ykwfgyl55t7dfzv_zc3dcshh0000gn/T/ipykernel_2750/3457703710.py:7: FutureWarning: The `geometries` module and `geometries_from_X` functions have been renamed the `features` module and `features_from_X` functions. Use these instead. The `geometries` module and function names are deprecated and will be removed in the v2.0.0 release.\n",
      "  poi = ox.geometries.geometries_from_place(cityname, tags=tags)\n"
     ]
    },
    {
     "name": "stdout",
     "output_type": "stream",
     "text": [
      "Generating contraction hierarchies with 8 threads.\n",
      "Setting CH node vector of size 1969\n",
      "Setting CH edge vector of size 6428\n",
      "Range graph removed 6500 edges of 12856\n",
      ". 10% . 20% . 30% . 40% . 50% . 60% . 70% . 80% . 90% . 100%\n",
      " 100% "
     ]
    },
    {
     "name": "stderr",
     "output_type": "stream",
     "text": [
      "/var/folders/g4/ykwfgyl55t7dfzv_zc3dcshh0000gn/T/ipykernel_2750/3457703710.py:7: FutureWarning: The `geometries` module and `geometries_from_X` functions have been renamed the `features` module and `features_from_X` functions. Use these instead. The `geometries` module and function names are deprecated and will be removed in the v2.0.0 release.\n",
      "  poi = ox.geometries.geometries_from_place(cityname, tags=tags)\n"
     ]
    },
    {
     "name": "stdout",
     "output_type": "stream",
     "text": [
      "Generating contraction hierarchies with 8 threads.\n",
      "Setting CH node vector of size 1313\n",
      "Setting CH edge vector of size 3974\n",
      "Range graph removed 4050 edges of 7948\n",
      ". 10% . 20% . 30% . 40% . 50% . 60% . 70% . 80% . 90% . 100%\n",
      " 100% "
     ]
    },
    {
     "name": "stderr",
     "output_type": "stream",
     "text": [
      "/var/folders/g4/ykwfgyl55t7dfzv_zc3dcshh0000gn/T/ipykernel_2750/3457703710.py:7: FutureWarning: The `geometries` module and `geometries_from_X` functions have been renamed the `features` module and `features_from_X` functions. Use these instead. The `geometries` module and function names are deprecated and will be removed in the v2.0.0 release.\n",
      "  poi = ox.geometries.geometries_from_place(cityname, tags=tags)\n"
     ]
    },
    {
     "name": "stdout",
     "output_type": "stream",
     "text": [
      "Generating contraction hierarchies with 8 threads.\n",
      "Setting CH node vector of size 2855\n",
      "Setting CH edge vector of size 9414\n",
      "Range graph removed 9522 edges of 18828\n",
      ". 10% . 20% . 30% . 40% . 50% . 60% . 70% . 80% . 90% . 100%\n"
     ]
    },
    {
     "name": "stderr",
     "output_type": "stream",
     "text": [
      "/var/folders/g4/ykwfgyl55t7dfzv_zc3dcshh0000gn/T/ipykernel_2750/3457703710.py:7: FutureWarning: The `geometries` module and `geometries_from_X` functions have been renamed the `features` module and `features_from_X` functions. Use these instead. The `geometries` module and function names are deprecated and will be removed in the v2.0.0 release.\n",
      "  poi = ox.geometries.geometries_from_place(cityname, tags=tags)\n"
     ]
    },
    {
     "name": "stdout",
     "output_type": "stream",
     "text": [
      "Generating contraction hierarchies with 8 threads.\n",
      "Setting CH node vector of size 1628\n",
      "Setting CH edge vector of size 4132\n",
      "Range graph removed 4400 edges of 8264\n",
      ". 10% . 20% . 30% . 40% . 50% . 60% . 70% . 80% . 90% . 100%\n",
      " 100% "
     ]
    },
    {
     "name": "stderr",
     "output_type": "stream",
     "text": [
      "/var/folders/g4/ykwfgyl55t7dfzv_zc3dcshh0000gn/T/ipykernel_2750/3457703710.py:7: FutureWarning: The `geometries` module and `geometries_from_X` functions have been renamed the `features` module and `features_from_X` functions. Use these instead. The `geometries` module and function names are deprecated and will be removed in the v2.0.0 release.\n",
      "  poi = ox.geometries.geometries_from_place(cityname, tags=tags)\n"
     ]
    },
    {
     "name": "stdout",
     "output_type": "stream",
     "text": [
      "Generating contraction hierarchies with 8 threads.\n",
      "Setting CH node vector of size 2593\n",
      "Setting CH edge vector of size 8686\n",
      "Range graph removed 8792 edges of 17372\n",
      ". 10% . 20% . 30% . 40% . 50% . 60% . 70% . 80% . 90% . 100%\n"
     ]
    }
   ],
   "source": [
    "for city in target:\n",
    "    if not city in [\"burnside\", \"riverdale\", \"mckinley park\"]:\n",
    "        cityname = f\"{city}, chicago, illinois\"\n",
    "        crs = 3035\n",
    "        graph = ox.graph_from_place(cityname, network_type='walk')\n",
    "        graph = ox.projection.project_graph(graph, to_crs=crs)\n",
    "        poi = ox.geometries.geometries_from_place(cityname, tags=tags)\n",
    "        # project the place of interest\n",
    "        poi = poi.to_crs(epsg=crs)\n",
    "\n",
    "        max_time = 21\n",
    "        walk_speed = 4\n",
    "        for u, v, data in graph.edges(data=True):\n",
    "            data['speed_kph'] = walk_speed\n",
    "        graph = ox.add_edge_travel_times(graph)\n",
    "\n",
    "    \n",
    "        nodes = ox.graph_to_gdfs(graph, edges=False)[['x', 'y']]\n",
    "        edges = ox.graph_to_gdfs(graph, nodes=False).reset_index()[['u', 'v', 'travel_time']]\n",
    "\n",
    "        # Construct the pandana network model\n",
    "        network = pandana.Network(\n",
    "            node_x=nodes['x'],\n",
    "            node_y=nodes['y'], \n",
    "            edge_from=edges['u'],\n",
    "            edge_to=edges['v'],\n",
    "            edge_weights=edges[['travel_time']]\n",
    "        )\n",
    "        centroids = poi.centroid\n",
    "        \"\"\" \n",
    "        Calculate and specifiy a max travel distance\n",
    "        for further implications onto a df we create\n",
    "        \"\"\"\n",
    "        max_distance = max_time * 60 #mins\n",
    "        network.set_pois(\n",
    "            category='pois',\n",
    "            maxdist = max_distance,\n",
    "            maxitems = 10,\n",
    "            x_col = centroids.x,\n",
    "            y_col = centroids.y\n",
    "        )\n",
    "\n",
    "        distances = network.nearest_pois(\n",
    "            distance=max_distance,\n",
    "            category = 'pois',\n",
    "            num_pois = 10\n",
    "        )\n",
    "\n",
    "        distances.astype(int)\n",
    "        df = distances\n",
    "        #(df.iloc[:, 1:] - df.iloc[:, 1:].min()) / (df.iloc[:, 1:].max() - df.iloc[:, 1:].min())\n",
    "        X = (((df.sum() / df.count()).sum())/10)\n",
    "        walk_score = X\n",
    "        hashmap['Walk_Score'].append(walk_score)\n",
    "    else:\n",
    "        walk_score = 0\n",
    "        hashmap['Walk_Score'].append(walk_score)\n",
    "    "
   ]
  },
  {
   "cell_type": "code",
   "execution_count": 8,
   "metadata": {},
   "outputs": [
    {
     "data": {
      "text/plain": [
       "76"
      ]
     },
     "execution_count": 8,
     "metadata": {},
     "output_type": "execute_result"
    }
   ],
   "source": [
    "import pandas as pd\n",
    "len(hashmap['Community Name'])\n",
    "len(hashmap[\"Walk_Score\"][1:])"
   ]
  },
  {
   "cell_type": "code",
   "execution_count": 18,
   "metadata": {},
   "outputs": [],
   "source": [
    "df_poi = pd.DataFrame(hashmap)"
   ]
  },
  {
   "cell_type": "code",
   "execution_count": 9,
   "metadata": {},
   "outputs": [
    {
     "data": {
      "text/plain": [
       "67.4000015258789"
      ]
     },
     "execution_count": 9,
     "metadata": {},
     "output_type": "execute_result"
    }
   ],
   "source": [
    "df.min().max()"
   ]
  },
  {
   "cell_type": "code",
   "execution_count": 10,
   "metadata": {},
   "outputs": [
    {
     "data": {
      "text/plain": [
       "236.47185232139122"
      ]
     },
     "execution_count": 10,
     "metadata": {},
     "output_type": "execute_result"
    }
   ],
   "source": [
    "(((df.sum() / df.count()).sum())/10)"
   ]
  },
  {
   "cell_type": "code",
   "execution_count": 11,
   "metadata": {},
   "outputs": [
    {
     "data": {
      "text/plain": [
       "330.21695472078807"
      ]
     },
     "execution_count": 11,
     "metadata": {},
     "output_type": "execute_result"
    }
   ],
   "source": [
    "df[10].mean()"
   ]
  },
  {
   "cell_type": "code",
   "execution_count": 12,
   "metadata": {},
   "outputs": [],
   "source": [
    "df_max = df.max()\n",
    "df_min = df.min()"
   ]
  },
  {
   "cell_type": "code",
   "execution_count": 13,
   "metadata": {},
   "outputs": [
    {
     "name": "stdout",
     "output_type": "stream",
     "text": [
      "                     1           2           3           4           5   \\\n",
      "osmid                                                                     \n",
      "104509535     86.254069  241.653981  291.081671  323.260841  412.422774   \n",
      "4065425671    58.217030  234.248186  270.031530  303.208692  393.333616   \n",
      "4065557345   105.362115  251.474680  305.427931  336.926922  425.432550   \n",
      "5496651199   154.114421  180.475748  342.031018  352.253394  368.286708   \n",
      "1257584212   107.505075  265.481268  307.036854  338.459585  426.891608   \n",
      "...                 ...         ...         ...         ...         ...   \n",
      "11601309417  208.581278  215.572720  376.354797  400.148618  380.931738   \n",
      "11607092434  388.768342  375.602079  455.058106  433.994576  534.860759   \n",
      "11607092458  282.691918  425.671608  392.578109  433.739159  479.538720   \n",
      "11607108111  127.506020  233.443210  277.672598  275.876492  382.511165   \n",
      "11607108112  125.898799  234.570172  257.292864  274.342562  363.180080   \n",
      "\n",
      "                     6             7             8             9   \\\n",
      "osmid                                                               \n",
      "104509535    491.166142 -16650.618445 -37999.619668 -49516.615866   \n",
      "4065425671   473.600506 -16666.805977 -38015.678187 -49532.635422   \n",
      "4065557345   503.137632 -16639.586153 -37988.675354 -49505.698075   \n",
      "5496651199   479.977848 -16639.689265 -37978.549265 -49486.107283   \n",
      "1257584212   504.480206 -16638.348907 -37987.447940 -49504.473639   \n",
      "...                 ...           ...           ...           ...   \n",
      "11601309417  350.529263 -16808.472848 -38187.105303 -49695.687837   \n",
      "11607092434  492.173082 -16670.105363 -38041.658184 -49556.205554   \n",
      "11607092458  447.642556 -16709.800950 -38081.139613 -49561.613444   \n",
      "11607108111  365.074046 -16757.229442 -38131.156228 -49634.467678   \n",
      "11607108112  365.185936 -16765.168572 -38138.929778 -49654.772699   \n",
      "\n",
      "                       10  \n",
      "osmid                      \n",
      "104509535   -50534.001144  \n",
      "4065425671  -50541.301132  \n",
      "4065557345  -50527.001144  \n",
      "5496651199  -50554.601181  \n",
      "1257584212  -50519.201157  \n",
      "...                   ...  \n",
      "11601309417 -50710.101151  \n",
      "11607092434 -50620.001144  \n",
      "11607092458 -50581.701157  \n",
      "11607108111 -50682.501144  \n",
      "11607108112 -50685.701157  \n",
      "\n",
      "[2593 rows x 10 columns]\n"
     ]
    }
   ],
   "source": [
    "x = findMax(df_max)\n",
    "y = findMin(df_min)\n",
    "X_std = (df - df.min(axis=0)) / (df.max(axis=0)) - df.min(axis=0)\n",
    "X_scaled = X_std * (x - y) + y\n",
    "print(X_scaled)"
   ]
  },
  {
   "cell_type": "code",
   "execution_count": null,
   "metadata": {},
   "outputs": [],
   "source": [
    "df_poi.isnull().sum()\n",
    "df_poi.to_csv('ura_data_processed.csv')\n",
    "print(f'Saved df_poi')"
   ]
  }
 ],
 "metadata": {
  "kernelspec": {
   "display_name": "Python 3",
   "language": "python",
   "name": "python3"
  },
  "language_info": {
   "codemirror_mode": {
    "name": "ipython",
    "version": 3
   },
   "file_extension": ".py",
   "mimetype": "text/x-python",
   "name": "python",
   "nbconvert_exporter": "python",
   "pygments_lexer": "ipython3",
   "version": "3.11.5"
  }
 },
 "nbformat": 4,
 "nbformat_minor": 2
}
